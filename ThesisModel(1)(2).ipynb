{
 "cells": [
  {
   "cell_type": "markdown",
   "metadata": {},
   "source": [
    "# Data preprocessing"
   ]
  },
  {
   "cell_type": "code",
   "execution_count": 1,
   "metadata": {
    "colab": {
     "base_uri": "https://localhost:8080/"
    },
    "id": "8VBorxT7MUeo",
    "outputId": "76f2ad0e-3620-40d4-eb41-8b3efb52ea53"
   },
   "outputs": [
    {
     "name": "stdout",
     "output_type": "stream",
     "text": [
      "The 'data' folder does not exist\n"
     ]
    }
   ],
   "source": [
    "import os\n",
    "if os.path.exists('/content/drive/MyDrive/data'):\n",
    "  print(\"The 'data' folder exists\")\n",
    "else:\n",
    "  print(\"The 'data' folder does not exist\")"
   ]
  },
  {
   "cell_type": "code",
   "execution_count": 2,
   "metadata": {
    "colab": {
     "base_uri": "https://localhost:8080/"
    },
    "id": "vfAWYdui1zDE",
    "outputId": "e54f1ec8-51be-404a-d3b7-58a0d1e551c3"
   },
   "outputs": [
    {
     "name": "stdout",
     "output_type": "stream",
     "text": [
      "The 'newData' folder does not exist\n"
     ]
    }
   ],
   "source": [
    "import os\n",
    "if os.path.exists('/content/drive/MyDrive/newData'):\n",
    "  print(\"The 'newData' folder exists\")\n",
    "else:\n",
    "  print(\"The 'newData' folder does not exist\")"
   ]
  },
  {
   "cell_type": "code",
   "execution_count": 3,
   "metadata": {
    "id": "F3bpd7RxQ_qi"
   },
   "outputs": [],
   "source": [
    "import os\n",
    "import numpy as np\n",
    "import torch\n",
    "import pandas as pd\n",
    "import torch.nn as nn\n",
    "import torch.nn.functional as F\n",
    "from torch.utils.data import Dataset, DataLoader\n",
    "from sklearn.neighbors import KNeighborsClassifier\n",
    "from sklearn.model_selection import train_test_split, cross_val_score, StratifiedKFold, StratifiedShuffleSplit\n",
    "from sklearn.metrics import accuracy_score, f1_score, classification_report, confusion_matrix, make_scorer\n",
    "from tqdm import tqdm\n",
    "from sklearn.metrics import classification_report, confusion_matrix, accuracy_score, classification_report, f1_score, top_k_accuracy_score\n",
    "import matplotlib.pyplot as plt"
   ]
  },
  {
   "cell_type": "code",
   "execution_count": 4,
   "metadata": {
    "colab": {
     "base_uri": "https://localhost:8080/"
    },
    "id": "AJnNSht6yXS4",
    "outputId": "06e95db5-64cc-4c10-c749-5ee3c2e1a93a"
   },
   "outputs": [
    {
     "data": {
      "text/plain": [
       "<torch._C.Generator at 0x2ae8e0e5f30>"
      ]
     },
     "execution_count": 4,
     "metadata": {},
     "output_type": "execute_result"
    }
   ],
   "source": [
    "torch.manual_seed(0)"
   ]
  },
  {
   "cell_type": "code",
   "execution_count": 5,
   "metadata": {},
   "outputs": [
    {
     "name": "stdout",
     "output_type": "stream",
     "text": [
      "cuda\n"
     ]
    }
   ],
   "source": [
    "device = torch.device(\"cuda\" if torch.cuda.is_available() else \"cpu\")\n",
    "print(device)"
   ]
  },
  {
   "cell_type": "code",
   "execution_count": 6,
   "metadata": {
    "id": "amCFD30TT5P4"
   },
   "outputs": [],
   "source": [
    "from sklearn.manifold import TSNE\n",
    "\n",
    "def visualize_tsne(model, dataset, loader, device, batch_size=64):\n",
    "    \"\"\"\n",
    "    Computes embeddings for all samples in dataset using CNN,\n",
    "    then runs t-SNE and plots a 2D scatter plot\n",
    "    \"\"\"\n",
    "    model.eval()\n",
    "    loader = loader\n",
    "    embeddings = []\n",
    "    labels = []\n",
    "\n",
    "    #Compute embeddings from the model\n",
    "    with torch.no_grad():\n",
    "        for x, y in loader:\n",
    "            x = x.to(device)\n",
    "            emb = model(x).cpu().numpy()\n",
    "            embeddings.append(emb)\n",
    "            labels.extend(y.numpy())\n",
    "\n",
    "    embeddings = np.vstack(embeddings)\n",
    "    labels = np.array(labels)\n",
    "\n",
    "\n",
    "    tsne = TSNE(n_components=2, random_state=42)\n",
    "    emb2d = tsne.fit_transform(embeddings)\n",
    "\n",
    "    plt.figure()\n",
    "    for lab in np.unique(labels):\n",
    "        idx = labels == lab\n",
    "        plt.scatter(emb2d[idx, 0], emb2d[idx, 1], label=str(lab))\n",
    "    plt.legend(title='Class')\n",
    "    plt.title('t-SNE of CNN Embeddings')\n",
    "    plt.xlabel('t-SNE dimension 1')\n",
    "    plt.ylabel('t-SNE dimension 2')\n",
    "    plt.show()"
   ]
  },
  {
   "cell_type": "code",
   "execution_count": 7,
   "metadata": {
    "id": "n28rsCguPpyM"
   },
   "outputs": [],
   "source": [
    "#Triplet loss\n",
    "def pairwise_distance(embeddings, squared=False):\n",
    "    \"\"\"Compute pairwise distances between embeddings\"\"\"\n",
    "    dot = embeddings @ embeddings.t()\n",
    "    square_norm = dot.diag()\n",
    "    distances = square_norm.unsqueeze(1) - 2 * dot + square_norm.unsqueeze(0)\n",
    "    distances = torch.clamp(distances, min=0.0)\n",
    "    if not squared:\n",
    "        mask = distances == 0.0\n",
    "        distances = distances + mask * 1e-16\n",
    "        distances = torch.sqrt(distances)\n",
    "        distances = distances * (~mask)\n",
    "    return distances\n",
    "\n",
    "def get_triplet_mask(labels):\n",
    "    \"\"\"Returns mask where mask[a,p,n] is True for valid anchor-positive-negative triplets.\"\"\"\n",
    "    device = labels.device\n",
    "    batch_size = labels.size(0)\n",
    "    labels_equal = labels.unsqueeze(0) == labels.unsqueeze(1)#[N, N]\n",
    "    indices_not_equal = ~torch.eye(batch_size, dtype=torch.bool, device=device)\n",
    "    valid_ap = labels_equal & indices_not_equal  # anchor and positive\n",
    "    valid_an = ~labels_equal # anchor and negative\n",
    "    mask = valid_ap.unsqueeze(2) & valid_an.unsqueeze(1)#[N, N, N]\n",
    "    return mask"
   ]
  },
  {
   "cell_type": "code",
   "execution_count": 8,
   "metadata": {
    "id": "ZvauCJBFNZUQ"
   },
   "outputs": [],
   "source": [
    "def batch_semi_hard_triplet_loss(embeddings, labels, margin=2, squared=False):\n",
    "    \"\"\"\n",
    "    Compute semi-hard triplet loss:\n",
    "    For each anchor, choose positives with same label and negatives with different label\n",
    "    where negative distance > positive distance but within margin.\n",
    "    \"\"\"\n",
    "    pairwise_dist = pairwise_distance(embeddings, squared=squared)\n",
    "    ap_dist = pairwise_dist.unsqueeze(2)  # [N, N, 1]\n",
    "    an_dist = pairwise_dist.unsqueeze(1)  # [N, 1, N]\n",
    "\n",
    "    triplet_loss = ap_dist - an_dist + margin\n",
    "\n",
    "    mask = get_triplet_mask(labels).to(embeddings.device)\n",
    "    triplet_loss = triplet_loss * mask\n",
    "\n",
    "    triplet_loss = torch.clamp(triplet_loss, min=0.0)\n",
    "\n",
    "    valid_triplets = triplet_loss > 1e-16\n",
    "    num_positive = valid_triplets.sum().float()\n",
    "    triplet_loss_sum = triplet_loss.sum()\n",
    "    loss = triplet_loss_sum / (num_positive + 1e-16)\n",
    "    return loss"
   ]
  },
  {
   "cell_type": "code",
   "execution_count": 10,
   "metadata": {
    "id": "MOyDoprMM_ai"
   },
   "outputs": [],
   "source": [
    "def get_anchor_positive_mask(labels):\n",
    "    device = labels.device\n",
    "    indices_equal = torch.eye(labels.size(0), dtype=torch.bool, device=device)\n",
    "    return (labels.unsqueeze(0) == labels.unsqueeze(1)) & ~indices_equal\n",
    "\n",
    "def get_anchor_negative_mask(labels):\n",
    "    return labels.unsqueeze(0) != labels.unsqueeze(1)\n",
    "\n",
    "def batch_hard_triplet_loss(embeddings, labels, margin=2., squared=False):\n",
    "    pairwise_dist = pairwise_distance(embeddings, squared=squared)\n",
    "\n",
    "    mask_ap = get_anchor_positive_mask(labels).float()\n",
    "    mask_an = get_anchor_negative_mask(labels).float()\n",
    "\n",
    "    hardest_positive_dist = (pairwise_dist * mask_ap).max(dim=1)[0]\n",
    "    max_dist = pairwise_dist.max().item()\n",
    "    masked_neg_dist = pairwise_dist + max_dist * (1.0 - mask_an)\n",
    "    hardest_negative_dist = masked_neg_dist.min(dim=1)[0]\n",
    "\n",
    "    loss = torch.clamp(hardest_positive_dist - hardest_negative_dist + margin, min=0.0)\n",
    "    return loss.mean()"
   ]
  },
  {
   "cell_type": "code",
   "execution_count": 11,
   "metadata": {
    "id": "5Jh-6BXGM41B"
   },
   "outputs": [],
   "source": [
    "def compute_triplet_loss(embeddings, labels, margin=2.0, mode='semi_hard', squared=False):\n",
    "    if mode == 'hard':\n",
    "        return batch_hard_triplet_loss(embeddings, labels, margin, squared)\n",
    "    elif mode == 'semi_hard':\n",
    "        return batch_semi_hard_triplet_loss(embeddings, labels, margin, squared)\n",
    "    else:\n",
    "        raise ValueError(f\"Unknown triplet loss mode: {mode}\")"
   ]
  },
  {
   "cell_type": "code",
   "execution_count": 12,
   "metadata": {},
   "outputs": [],
   "source": [
    "def validate_embedding_quality(model, val_loader, device, k=20):\n",
    "    model.eval()\n",
    "    all_embs = []\n",
    "    all_labels = []\n",
    "\n",
    "    with torch.no_grad():\n",
    "        for x, y in val_loader:\n",
    "            x = x.to(device)\n",
    "            emb = model(x)\n",
    "            emb = F.normalize(emb, p=2, dim=1)\n",
    "            all_embs.append(emb.cpu())\n",
    "            all_labels.append(y)\n",
    "\n",
    "    all_embs = torch.cat(all_embs)\n",
    "    all_labels = torch.cat(all_labels)\n",
    "\n",
    "    knn = KNeighborsClassifier(n_neighbors=k)\n",
    "    knn.fit(all_embs, all_labels)\n",
    "    acc = knn.score(all_embs, all_labels)\n",
    "    return acc"
   ]
  },
  {
   "cell_type": "code",
   "execution_count": 13,
   "metadata": {
    "id": "iAVshf8kRjSO"
   },
   "outputs": [],
   "source": [
    "def train_semi_hard(model, loader, optimizer, device, val_loader=None, k=10, epochs=5, mode='semi_hard'):\n",
    "    for ep in range(1, epochs + 1):\n",
    "        model.train()\n",
    "        total_loss = 0.0\n",
    "        for x, y in tqdm(loader, desc=f\"Epoch {ep}/{epochs}\"):\n",
    "            x, y = x.to(device), y.to(device)\n",
    "            emb = model(x)\n",
    "            loss = compute_triplet_loss(emb, y, margin=2, mode=mode)\n",
    "            optimizer.zero_grad()\n",
    "            loss.backward()\n",
    "            optimizer.step()\n",
    "            total_loss += loss.item() * x.size(0)\n",
    "        avg_loss = total_loss / len(loader.dataset)\n",
    "        print(f\"Epoch {ep} Avg Loss: {avg_loss:.4f}\")\n",
    "\n",
    "        #if validation dataset is present\n",
    "        if val_loader is not None:\n",
    "            val_acc = validate_embedding_quality(model, val_loader, device, k)\n",
    "            print(f\"Validation k-NN Accuracy: {val_acc:.4f}\")"
   ]
  },
  {
   "cell_type": "code",
   "execution_count": 14,
   "metadata": {
    "id": "HHTjDyP0Rowe"
   },
   "outputs": [],
   "source": [
    "#Class to receive data from the data folders\n",
    "class AdmixtureDataset(Dataset):\n",
    "    def __init__(self, root_dir):\n",
    "        self.samples = []\n",
    "        self.labels = []\n",
    "        folders = sorted([d for d in os.listdir(root_dir) if os.path.isdir(os.path.join(root_dir, d))],\n",
    "                         key=lambda x: int(x))\n",
    "        self.label_map = {folder: idx for idx, folder in enumerate(folders)}\n",
    "        for folder in folders:\n",
    "            lab = self.label_map[folder]\n",
    "            folder_path = os.path.join(root_dir, folder)\n",
    "            for fname in os.listdir(folder_path):\n",
    "                if not fname.endswith(\".txt\"): #take only txt file because sometimes zips were present in the folder\n",
    "                    continue\n",
    "                arr = np.loadtxt(os.path.join(folder_path, fname), delimiter=\"\\t\", usecols=(1,2,3,4,5,6), dtype=np.float32) #We dont take the first column\n",
    "                arr = np.nan_to_num(arr, nan=0.0).T #[6, 1000]\n",
    "                self.samples.append(arr)\n",
    "                self.labels.append(lab)\n",
    "\n",
    "    def __len__(self):\n",
    "        return len(self.samples)\n",
    "\n",
    "    def __getitem__(self, idx):\n",
    "        x = torch.from_numpy(self.samples[idx])\n",
    "        y = torch.tensor(self.labels[idx], dtype=torch.long)\n",
    "        return x, y"
   ]
  },
  {
   "cell_type": "code",
   "execution_count": 15,
   "metadata": {
    "id": "gjUkQ52kRlqi"
   },
   "outputs": [],
   "source": [
    "class CNNEmbedding(nn.Module):\n",
    "    def __init__(self, embedding_dim=64):\n",
    "        super().__init__()\n",
    "        self.conv = nn.Sequential( #convolutional layers\n",
    "            nn.Conv1d(6, 32, 7, padding=3),\n",
    "            nn.BatchNorm1d(32),\n",
    "            nn.ReLU(),\n",
    "            nn.MaxPool1d(2),\n",
    "\n",
    "            nn.Conv1d(32, 64, 5, padding=2),\n",
    "            nn.BatchNorm1d(64),\n",
    "            nn.ReLU(),\n",
    "            nn.MaxPool1d(2),\n",
    "\n",
    "            nn.Conv1d(64, 128, 5, padding=2),\n",
    "            nn.BatchNorm1d(128),\n",
    "            nn.ReLU(),\n",
    "            nn.MaxPool1d(2),\n",
    "\n",
    "            #Additional layer maybe comment out\n",
    "            nn.Conv1d(128, 256, 3, padding=1),\n",
    "            nn.BatchNorm1d(256),\n",
    "            nn.ReLU(),\n",
    "            nn.MaxPool1d(2),\n",
    "\n",
    "            nn.Conv1d(256, 512, 3, padding=1),\n",
    "            nn.BatchNorm1d(512),\n",
    "            nn.ReLU(),\n",
    "            nn.AdaptiveAvgPool1d(1)\n",
    "        )\n",
    "\n",
    "\n",
    "        self.fc = nn.Sequential( #fully connected layers\n",
    "            nn.Flatten(),\n",
    "            nn.Dropout(0.4),\n",
    "            nn.Linear(512, 512),\n",
    "            nn.ReLU(),\n",
    "            nn.Dropout(0.1),\n",
    "            nn.Linear(512, embedding_dim),\n",
    "            nn.ReLU()\n",
    "        )\n",
    "\n",
    "    def forward(self, x):\n",
    "        h = self.conv(x)   #[B,512,1]\n",
    "        emb = self.fc(h)   #[B,embedding_dim]\n",
    "        return emb"
   ]
  },
  {
   "cell_type": "code",
   "execution_count": 16,
   "metadata": {
    "id": "URvDE--mRhxL"
   },
   "outputs": [],
   "source": [
    "def evaluate_knn(model, dataset, loader, device):\n",
    "    model.eval()\n",
    "    embs, labs = [], []\n",
    "    loader = loader\n",
    "    with torch.no_grad():\n",
    "        for x, y in loader:\n",
    "            x = x.to(device)\n",
    "            emb = model(x).cpu().numpy()\n",
    "            embs.append(emb)\n",
    "            labs.extend(y.numpy())\n",
    "    embs = np.vstack(embs)\n",
    "\n",
    "\n",
    "\n",
    "\n",
    "\n",
    "    \n",
    "    Xtr, Xte, ytr, yte = train_test_split(embs, labs, test_size=0.2, stratify=labs, random_state=42)\n",
    "\n",
    "\n",
    "\n",
    "\n",
    "    \n",
    "    knn = KNeighborsClassifier(n_neighbors=20)\n",
    "    knn.fit(Xtr, ytr)\n",
    "    y_pred = knn.predict(Xte)\n",
    "\n",
    "    #knn accuracy\n",
    "    acc = accuracy_score(yte, y_pred)\n",
    "    print(f\"\\n k‑NN classification accuracy: {acc:.4f}\")\n",
    "\n",
    "    print(\"\\nClassification Report:\")\n",
    "    print(classification_report(yte, y_pred, digits=4,\n",
    "          target_names=[str(k) for k in dataset.label_map.keys()]))\n",
    "\n",
    "    #Confusion matrix\n",
    "    cm = confusion_matrix(yte, y_pred)\n",
    "    print(\"\\nConfusion Matrix:\")\n",
    "    print(cm)\n",
    "\n",
    "    return yte, y_pred"
   ]
  },
  {
   "cell_type": "code",
   "execution_count": 17,
   "metadata": {
    "id": "Hy3H5rHIcohi"
   },
   "outputs": [],
   "source": [
    "def evaluate_knn_with_elbow_cv(model, dataset, loader, device, max_k=100, cv_folds=30, random_state=42):\n",
    "    model.eval()\n",
    "    embs, labs = [], []\n",
    "    with torch.no_grad():\n",
    "        for x, y in loader:\n",
    "            x = x.to(device)\n",
    "            emb = model(x).cpu().numpy()\n",
    "            embs.append(emb)\n",
    "            labs.extend(y.numpy())\n",
    "    embs = np.vstack(embs)\n",
    "    labs = np.array(labs)\n",
    "\n",
    "\n",
    "    f1_list = []\n",
    "    k_range = range(1, max_k + 1)\n",
    "    skf = StratifiedKFold(n_splits=cv_folds, shuffle=True, random_state=random_state)\n",
    "    scorer = make_scorer(f1_score, average='macro')\n",
    "\n",
    "    for k in k_range:\n",
    "        knn = KNeighborsClassifier(n_neighbors=k)\n",
    "        scores = cross_val_score(knn, embs, labs, scoring=scorer, cv=skf, n_jobs=-1)\n",
    "        f1_list.append(np.mean(scores))\n",
    "\n",
    "\n",
    "    plt.figure(figsize=(8, 5))\n",
    "    plt.plot(k_range, f1_list, marker=\"o\")\n",
    "    plt.xlabel(\"Number of Neighbors k\")\n",
    "    plt.ylabel(\"Cross-validated F1 Macro\")\n",
    "    plt.title(f\"Elbow Method (CV F1 Macro over {cv_folds} folds)\")\n",
    "    plt.grid(True)\n",
    "    plt.show()\n",
    "\n",
    "    best_k = np.argmax(f1_list) + 1\n",
    "    print(f\"Best k by cross-validated F1 Macro: {best_k}\")\n",
    "\n",
    "\n",
    "    Xtr, Xte, ytr, yte = train_test_split(embs, labs, test_size=0.2, stratify=labs, random_state=random_state)\n",
    "    knn = KNeighborsClassifier(n_neighbors=best_k)\n",
    "    knn.fit(Xtr, ytr)\n",
    "    y_pred = knn.predict(Xte)\n",
    "\n",
    "    f1_macro = f1_score(yte, y_pred, average=\"macro\")\n",
    "    print(f\"\\nHold-out F1 Macro (k={best_k}): {f1_macro:.4f}\")\n",
    "\n",
    "    print(\"\\nClassification Report:\")\n",
    "    print(classification_report(yte, y_pred, digits=4,\n",
    "          target_names=[str(k) for k in dataset.label_map.keys()]))\n",
    "\n",
    "    cm = confusion_matrix(yte, y_pred)\n",
    "    print(\"\\nConfusion Matrix:\")\n",
    "    print(cm)\n",
    "\n",
    "    return yte, y_pred, k_range, f1_list"
   ]
  },
  {
   "cell_type": "code",
   "execution_count": 18,
   "metadata": {},
   "outputs": [],
   "source": [
    "def split_dataset(dataset, val_ratio=0.2):\n",
    "    labels = dataset.labels\n",
    "    splitter = StratifiedShuffleSplit(n_splits=1, test_size=val_ratio, random_state=42)\n",
    "    indices = list(range(len(labels)))\n",
    "    for train_idx, val_idx in splitter.split(indices, labels):\n",
    "        train_subset = torch.utils.data.Subset(dataset, train_idx)\n",
    "        val_subset = torch.utils.data.Subset(dataset, val_idx)\n",
    "        return train_subset, val_subset"
   ]
  },
  {
   "cell_type": "markdown",
   "metadata": {},
   "source": [
    "# CNN"
   ]
  },
  {
   "cell_type": "code",
   "execution_count": 22,
   "metadata": {
    "scrolled": true
   },
   "outputs": [
    {
     "name": "stdout",
     "output_type": "stream",
     "text": [
      "train dataset size: 10570\n",
      "full dataset size: 13212\n"
     ]
    },
    {
     "name": "stderr",
     "output_type": "stream",
     "text": [
      "Epoch 1/40: 100%|██████████████████████████████████████████████████████████████████████| 83/83 [00:02<00:00, 36.32it/s]\n"
     ]
    },
    {
     "name": "stdout",
     "output_type": "stream",
     "text": [
      "Epoch 1 Avg Loss: 1.8593\n",
      "Validation k-NN Accuracy: 0.3212\n"
     ]
    },
    {
     "name": "stderr",
     "output_type": "stream",
     "text": [
      "Epoch 2/40: 100%|██████████████████████████████████████████████████████████████████████| 83/83 [00:01<00:00, 42.02it/s]\n"
     ]
    },
    {
     "name": "stdout",
     "output_type": "stream",
     "text": [
      "Epoch 2 Avg Loss: 2.0107\n",
      "Validation k-NN Accuracy: 0.3099\n"
     ]
    },
    {
     "name": "stderr",
     "output_type": "stream",
     "text": [
      "Epoch 3/40: 100%|██████████████████████████████████████████████████████████████████████| 83/83 [00:01<00:00, 42.36it/s]\n"
     ]
    },
    {
     "name": "stdout",
     "output_type": "stream",
     "text": [
      "Epoch 3 Avg Loss: 2.0139\n",
      "Validation k-NN Accuracy: 0.3190\n"
     ]
    },
    {
     "name": "stderr",
     "output_type": "stream",
     "text": [
      "Epoch 4/40: 100%|██████████████████████████████████████████████████████████████████████| 83/83 [00:01<00:00, 42.43it/s]\n"
     ]
    },
    {
     "name": "stdout",
     "output_type": "stream",
     "text": [
      "Epoch 4 Avg Loss: 2.0024\n",
      "Validation k-NN Accuracy: 0.3171\n"
     ]
    },
    {
     "name": "stderr",
     "output_type": "stream",
     "text": [
      "Epoch 5/40: 100%|██████████████████████████████████████████████████████████████████████| 83/83 [00:01<00:00, 42.41it/s]\n"
     ]
    },
    {
     "name": "stdout",
     "output_type": "stream",
     "text": [
      "Epoch 5 Avg Loss: 1.9969\n",
      "Validation k-NN Accuracy: 0.3220\n"
     ]
    },
    {
     "name": "stderr",
     "output_type": "stream",
     "text": [
      "Epoch 6/40: 100%|██████████████████████████████████████████████████████████████████████| 83/83 [00:01<00:00, 42.76it/s]\n"
     ]
    },
    {
     "name": "stdout",
     "output_type": "stream",
     "text": [
      "Epoch 6 Avg Loss: 1.9956\n",
      "Validation k-NN Accuracy: 0.3163\n"
     ]
    },
    {
     "name": "stderr",
     "output_type": "stream",
     "text": [
      "Epoch 7/40: 100%|██████████████████████████████████████████████████████████████████████| 83/83 [00:01<00:00, 42.80it/s]\n"
     ]
    },
    {
     "name": "stdout",
     "output_type": "stream",
     "text": [
      "Epoch 7 Avg Loss: 1.9820\n",
      "Validation k-NN Accuracy: 0.3216\n"
     ]
    },
    {
     "name": "stderr",
     "output_type": "stream",
     "text": [
      "Epoch 8/40: 100%|██████████████████████████████████████████████████████████████████████| 83/83 [00:01<00:00, 42.27it/s]\n"
     ]
    },
    {
     "name": "stdout",
     "output_type": "stream",
     "text": [
      "Epoch 8 Avg Loss: 1.9886\n",
      "Validation k-NN Accuracy: 0.3148\n"
     ]
    },
    {
     "name": "stderr",
     "output_type": "stream",
     "text": [
      "Epoch 9/40: 100%|██████████████████████████████████████████████████████████████████████| 83/83 [00:01<00:00, 42.33it/s]\n"
     ]
    },
    {
     "name": "stdout",
     "output_type": "stream",
     "text": [
      "Epoch 9 Avg Loss: 1.9900\n",
      "Validation k-NN Accuracy: 0.3288\n"
     ]
    },
    {
     "name": "stderr",
     "output_type": "stream",
     "text": [
      "Epoch 10/40: 100%|█████████████████████████████████████████████████████████████████████| 83/83 [00:01<00:00, 42.08it/s]\n"
     ]
    },
    {
     "name": "stdout",
     "output_type": "stream",
     "text": [
      "Epoch 10 Avg Loss: 1.9853\n",
      "Validation k-NN Accuracy: 0.3227\n"
     ]
    },
    {
     "name": "stderr",
     "output_type": "stream",
     "text": [
      "Epoch 11/40: 100%|█████████████████████████████████████████████████████████████████████| 83/83 [00:01<00:00, 42.35it/s]\n"
     ]
    },
    {
     "name": "stdout",
     "output_type": "stream",
     "text": [
      "Epoch 11 Avg Loss: 1.9849\n",
      "Validation k-NN Accuracy: 0.3227\n"
     ]
    },
    {
     "name": "stderr",
     "output_type": "stream",
     "text": [
      "Epoch 12/40: 100%|█████████████████████████████████████████████████████████████████████| 83/83 [00:01<00:00, 42.38it/s]\n"
     ]
    },
    {
     "name": "stdout",
     "output_type": "stream",
     "text": [
      "Epoch 12 Avg Loss: 1.9778\n",
      "Validation k-NN Accuracy: 0.3280\n"
     ]
    },
    {
     "name": "stderr",
     "output_type": "stream",
     "text": [
      "Epoch 13/40: 100%|█████████████████████████████████████████████████████████████████████| 83/83 [00:01<00:00, 42.42it/s]\n"
     ]
    },
    {
     "name": "stdout",
     "output_type": "stream",
     "text": [
      "Epoch 13 Avg Loss: 1.9839\n",
      "Validation k-NN Accuracy: 0.3277\n"
     ]
    },
    {
     "name": "stderr",
     "output_type": "stream",
     "text": [
      "Epoch 14/40: 100%|█████████████████████████████████████████████████████████████████████| 83/83 [00:01<00:00, 42.21it/s]\n"
     ]
    },
    {
     "name": "stdout",
     "output_type": "stream",
     "text": [
      "Epoch 14 Avg Loss: 1.9933\n",
      "Validation k-NN Accuracy: 0.3201\n"
     ]
    },
    {
     "name": "stderr",
     "output_type": "stream",
     "text": [
      "Epoch 15/40: 100%|█████████████████████████████████████████████████████████████████████| 83/83 [00:01<00:00, 41.99it/s]\n"
     ]
    },
    {
     "name": "stdout",
     "output_type": "stream",
     "text": [
      "Epoch 15 Avg Loss: 1.9804\n",
      "Validation k-NN Accuracy: 0.3258\n"
     ]
    },
    {
     "name": "stderr",
     "output_type": "stream",
     "text": [
      "Epoch 16/40: 100%|█████████████████████████████████████████████████████████████████████| 83/83 [00:01<00:00, 42.22it/s]\n"
     ]
    },
    {
     "name": "stdout",
     "output_type": "stream",
     "text": [
      "Epoch 16 Avg Loss: 1.9873\n",
      "Validation k-NN Accuracy: 0.3246\n"
     ]
    },
    {
     "name": "stderr",
     "output_type": "stream",
     "text": [
      "Epoch 17/40: 100%|█████████████████████████████████████████████████████████████████████| 83/83 [00:01<00:00, 42.62it/s]\n"
     ]
    },
    {
     "name": "stdout",
     "output_type": "stream",
     "text": [
      "Epoch 17 Avg Loss: 1.9898\n",
      "Validation k-NN Accuracy: 0.3299\n"
     ]
    },
    {
     "name": "stderr",
     "output_type": "stream",
     "text": [
      "Epoch 18/40: 100%|█████████████████████████████████████████████████████████████████████| 83/83 [00:01<00:00, 42.46it/s]\n"
     ]
    },
    {
     "name": "stdout",
     "output_type": "stream",
     "text": [
      "Epoch 18 Avg Loss: 1.9844\n",
      "Validation k-NN Accuracy: 0.3224\n"
     ]
    },
    {
     "name": "stderr",
     "output_type": "stream",
     "text": [
      "Epoch 19/40: 100%|█████████████████████████████████████████████████████████████████████| 83/83 [00:01<00:00, 42.27it/s]\n"
     ]
    },
    {
     "name": "stdout",
     "output_type": "stream",
     "text": [
      "Epoch 19 Avg Loss: 1.9927\n",
      "Validation k-NN Accuracy: 0.3178\n"
     ]
    },
    {
     "name": "stderr",
     "output_type": "stream",
     "text": [
      "Epoch 20/40: 100%|█████████████████████████████████████████████████████████████████████| 83/83 [00:01<00:00, 42.57it/s]\n"
     ]
    },
    {
     "name": "stdout",
     "output_type": "stream",
     "text": [
      "Epoch 20 Avg Loss: 1.9879\n",
      "Validation k-NN Accuracy: 0.3379\n"
     ]
    },
    {
     "name": "stderr",
     "output_type": "stream",
     "text": [
      "Epoch 21/40: 100%|█████████████████████████████████████████████████████████████████████| 83/83 [00:01<00:00, 42.49it/s]\n"
     ]
    },
    {
     "name": "stdout",
     "output_type": "stream",
     "text": [
      "Epoch 21 Avg Loss: 1.9843\n",
      "Validation k-NN Accuracy: 0.3367\n"
     ]
    },
    {
     "name": "stderr",
     "output_type": "stream",
     "text": [
      "Epoch 22/40: 100%|█████████████████████████████████████████████████████████████████████| 83/83 [00:01<00:00, 42.20it/s]\n"
     ]
    },
    {
     "name": "stdout",
     "output_type": "stream",
     "text": [
      "Epoch 22 Avg Loss: 1.9811\n",
      "Validation k-NN Accuracy: 0.3174\n"
     ]
    },
    {
     "name": "stderr",
     "output_type": "stream",
     "text": [
      "Epoch 23/40: 100%|█████████████████████████████████████████████████████████████████████| 83/83 [00:01<00:00, 42.14it/s]\n"
     ]
    },
    {
     "name": "stdout",
     "output_type": "stream",
     "text": [
      "Epoch 23 Avg Loss: 1.9994\n",
      "Validation k-NN Accuracy: 0.3273\n"
     ]
    },
    {
     "name": "stderr",
     "output_type": "stream",
     "text": [
      "Epoch 24/40: 100%|█████████████████████████████████████████████████████████████████████| 83/83 [00:01<00:00, 41.75it/s]\n"
     ]
    },
    {
     "name": "stdout",
     "output_type": "stream",
     "text": [
      "Epoch 24 Avg Loss: 1.9816\n",
      "Validation k-NN Accuracy: 0.3201\n"
     ]
    },
    {
     "name": "stderr",
     "output_type": "stream",
     "text": [
      "Epoch 25/40: 100%|█████████████████████████████████████████████████████████████████████| 83/83 [00:02<00:00, 41.47it/s]\n"
     ]
    },
    {
     "name": "stdout",
     "output_type": "stream",
     "text": [
      "Epoch 25 Avg Loss: 1.9994\n",
      "Validation k-NN Accuracy: 0.3208\n"
     ]
    },
    {
     "name": "stderr",
     "output_type": "stream",
     "text": [
      "Epoch 26/40: 100%|█████████████████████████████████████████████████████████████████████| 83/83 [00:01<00:00, 41.69it/s]\n"
     ]
    },
    {
     "name": "stdout",
     "output_type": "stream",
     "text": [
      "Epoch 26 Avg Loss: 1.9878\n",
      "Validation k-NN Accuracy: 0.3224\n"
     ]
    },
    {
     "name": "stderr",
     "output_type": "stream",
     "text": [
      "Epoch 27/40: 100%|█████████████████████████████████████████████████████████████████████| 83/83 [00:01<00:00, 41.68it/s]\n"
     ]
    },
    {
     "name": "stdout",
     "output_type": "stream",
     "text": [
      "Epoch 27 Avg Loss: 1.9984\n",
      "Validation k-NN Accuracy: 0.3216\n"
     ]
    },
    {
     "name": "stderr",
     "output_type": "stream",
     "text": [
      "Epoch 28/40: 100%|█████████████████████████████████████████████████████████████████████| 83/83 [00:01<00:00, 41.90it/s]\n"
     ]
    },
    {
     "name": "stdout",
     "output_type": "stream",
     "text": [
      "Epoch 28 Avg Loss: 1.9906\n",
      "Validation k-NN Accuracy: 0.3224\n"
     ]
    },
    {
     "name": "stderr",
     "output_type": "stream",
     "text": [
      "Epoch 29/40: 100%|█████████████████████████████████████████████████████████████████████| 83/83 [00:01<00:00, 41.84it/s]\n"
     ]
    },
    {
     "name": "stdout",
     "output_type": "stream",
     "text": [
      "Epoch 29 Avg Loss: 1.9827\n",
      "Validation k-NN Accuracy: 0.3292\n"
     ]
    },
    {
     "name": "stderr",
     "output_type": "stream",
     "text": [
      "Epoch 30/40: 100%|█████████████████████████████████████████████████████████████████████| 83/83 [00:02<00:00, 40.06it/s]\n"
     ]
    },
    {
     "name": "stdout",
     "output_type": "stream",
     "text": [
      "Epoch 30 Avg Loss: 1.9946\n",
      "Validation k-NN Accuracy: 0.3156\n"
     ]
    },
    {
     "name": "stderr",
     "output_type": "stream",
     "text": [
      "Epoch 31/40: 100%|█████████████████████████████████████████████████████████████████████| 83/83 [00:02<00:00, 40.08it/s]\n"
     ]
    },
    {
     "name": "stdout",
     "output_type": "stream",
     "text": [
      "Epoch 31 Avg Loss: 1.9886\n",
      "Validation k-NN Accuracy: 0.3269\n"
     ]
    },
    {
     "name": "stderr",
     "output_type": "stream",
     "text": [
      "Epoch 32/40: 100%|█████████████████████████████████████████████████████████████████████| 83/83 [00:02<00:00, 41.23it/s]\n"
     ]
    },
    {
     "name": "stdout",
     "output_type": "stream",
     "text": [
      "Epoch 32 Avg Loss: 1.9898\n",
      "Validation k-NN Accuracy: 0.3269\n"
     ]
    },
    {
     "name": "stderr",
     "output_type": "stream",
     "text": [
      "Epoch 33/40: 100%|█████████████████████████████████████████████████████████████████████| 83/83 [00:02<00:00, 41.05it/s]\n"
     ]
    },
    {
     "name": "stdout",
     "output_type": "stream",
     "text": [
      "Epoch 33 Avg Loss: 1.9820\n",
      "Validation k-NN Accuracy: 0.3292\n"
     ]
    },
    {
     "name": "stderr",
     "output_type": "stream",
     "text": [
      "Epoch 34/40: 100%|█████████████████████████████████████████████████████████████████████| 83/83 [00:02<00:00, 41.07it/s]\n"
     ]
    },
    {
     "name": "stdout",
     "output_type": "stream",
     "text": [
      "Epoch 34 Avg Loss: 1.9870\n",
      "Validation k-NN Accuracy: 0.3186\n"
     ]
    },
    {
     "name": "stderr",
     "output_type": "stream",
     "text": [
      "Epoch 35/40: 100%|█████████████████████████████████████████████████████████████████████| 83/83 [00:02<00:00, 41.03it/s]\n"
     ]
    },
    {
     "name": "stdout",
     "output_type": "stream",
     "text": [
      "Epoch 35 Avg Loss: 2.0049\n",
      "Validation k-NN Accuracy: 0.3243\n"
     ]
    },
    {
     "name": "stderr",
     "output_type": "stream",
     "text": [
      "Epoch 36/40: 100%|█████████████████████████████████████████████████████████████████████| 83/83 [00:02<00:00, 41.29it/s]\n"
     ]
    },
    {
     "name": "stdout",
     "output_type": "stream",
     "text": [
      "Epoch 36 Avg Loss: 1.9872\n",
      "Validation k-NN Accuracy: 0.3212\n"
     ]
    },
    {
     "name": "stderr",
     "output_type": "stream",
     "text": [
      "Epoch 37/40: 100%|█████████████████████████████████████████████████████████████████████| 83/83 [00:02<00:00, 41.39it/s]\n"
     ]
    },
    {
     "name": "stdout",
     "output_type": "stream",
     "text": [
      "Epoch 37 Avg Loss: 1.9900\n",
      "Validation k-NN Accuracy: 0.3314\n"
     ]
    },
    {
     "name": "stderr",
     "output_type": "stream",
     "text": [
      "Epoch 38/40: 100%|█████████████████████████████████████████████████████████████████████| 83/83 [00:02<00:00, 41.36it/s]\n"
     ]
    },
    {
     "name": "stdout",
     "output_type": "stream",
     "text": [
      "Epoch 38 Avg Loss: 1.9954\n",
      "Validation k-NN Accuracy: 0.3318\n"
     ]
    },
    {
     "name": "stderr",
     "output_type": "stream",
     "text": [
      "Epoch 39/40: 100%|█████████████████████████████████████████████████████████████████████| 83/83 [00:01<00:00, 41.55it/s]\n"
     ]
    },
    {
     "name": "stdout",
     "output_type": "stream",
     "text": [
      "Epoch 39 Avg Loss: 1.9941\n",
      "Validation k-NN Accuracy: 0.3295\n"
     ]
    },
    {
     "name": "stderr",
     "output_type": "stream",
     "text": [
      "Epoch 40/40: 100%|█████████████████████████████████████████████████████████████████████| 83/83 [00:01<00:00, 41.59it/s]\n"
     ]
    },
    {
     "name": "stdout",
     "output_type": "stream",
     "text": [
      "Epoch 40 Avg Loss: 1.9861\n",
      "Validation k-NN Accuracy: 0.3330\n"
     ]
    },
    {
     "data": {
      "image/png": "[encoded data removed]",
      "text/plain": [
       "<Figure size 800x500 with 1 Axes>"
      ]
     },
     "metadata": {},
     "output_type": "display_data"
    },
    {
     "name": "stdout",
     "output_type": "stream",
     "text": [
      "Best k by cross-validated F1 Macro: 23\n",
      "\n",
      "Hold-out F1 Macro (k=23): 0.2187\n",
      "\n",
      "Classification Report:\n",
      "              precision    recall  f1-score   support\n",
      "\n",
      "           3     0.5667    0.4595    0.5075        37\n",
      "         100     0.4810    0.5352    0.5067        71\n",
      "         300     0.1739    0.1600    0.1667        50\n",
      "         500     0.1304    0.0638    0.0857        47\n",
      "         700     0.2703    0.2326    0.2500        43\n",
      "         900     0.0667    0.0500    0.0571        40\n",
      "        1100     0.1714    0.1500    0.1600        40\n",
      "        1300     0.1481    0.2667    0.1905        60\n",
      "        1500     0.2165    0.3443    0.2658        61\n",
      "        1700     0.1538    0.0513    0.0769        39\n",
      "        1900     0.1613    0.1220    0.1389        41\n",
      "\n",
      "    accuracy                         0.2420       529\n",
      "   macro avg     0.2309    0.2214    0.2187       529\n",
      "weighted avg     0.2378    0.2420    0.2323       529\n",
      "\n",
      "\n",
      "Confusion Matrix:\n",
      "[[17 13  3  2  0  0  0  0  2  0  0]\n",
      " [10 38 11  5  1  0  1  1  0  1  3]\n",
      " [ 3 14  8  5  4  1  1  4  9  0  1]\n",
      " [ 0  5 14  3  1  2  4 12  5  0  1]\n",
      " [ 0  1  7  4 10  3  3  8  5  1  1]\n",
      " [ 0  2  1  2  5  2  4 12  6  3  3]\n",
      " [ 0  3  1  0  1  3  6 18  7  0  1]\n",
      " [ 0  1  1  0 10  5  6 16 17  0  4]\n",
      " [ 0  1  0  2  1  5  7 16 21  2  6]\n",
      " [ 0  1  0  0  2  3  2 11 12  2  6]\n",
      " [ 0  0  0  0  2  6  1 10 13  4  5]]\n",
      "True: 7, Predicted: 8\n",
      "True: 7, Predicted: 7\n",
      "True: 7, Predicted: 8\n",
      "True: 4, Predicted: 8\n",
      "True: 10, Predicted: 7\n",
      "True: 3, Predicted: 7\n",
      "True: 2, Predicted: 8\n",
      "True: 9, Predicted: 7\n",
      "True: 8, Predicted: 7\n",
      "True: 1, Predicted: 1\n",
      "True: 5, Predicted: 8\n",
      "True: 4, Predicted: 3\n",
      "True: 9, Predicted: 5\n",
      "True: 2, Predicted: 1\n",
      "True: 6, Predicted: 8\n"
     ]
    }
   ],
   "source": [
    "def main(data_root, epochs=15, batch_size=64, lr=1e-4):\n",
    "    \n",
    "    device = torch.device(\"cuda\" if torch.cuda.is_available() else \"cpu\")\n",
    "\n",
    "    #Loading the dataset and splitting it\n",
    "    full_ds = AdmixtureDataset(data_root)\n",
    "    val_ratio = 0.2\n",
    "    val_size = int(len(full_ds) * val_ratio)\n",
    "    train_size = len(full_ds) - val_size\n",
    "    train_ds, val_ds = split_dataset(full_ds, val_ratio=val_ratio)\n",
    "    print(\"train dataset size:\", train_size)\n",
    "    print(\"full dataset size:\",len(full_ds))\n",
    "\n",
    "\n",
    "\n",
    "    train_loader = DataLoader(train_ds, batch_size=batch_size, shuffle=True, num_workers=0)\n",
    "    \n",
    "    val_loader = DataLoader(val_ds, batch_size=batch_size, shuffle=False, num_workers=0)\n",
    "\n",
    "    \n",
    "    #Model train\n",
    "    model = CNNEmbedding(embedding_dim=128).to(device)\n",
    "    opt = torch.optim.Adam(model.parameters(), lr=lr)\n",
    "\n",
    "    train_semi_hard(model, train_loader, opt, device, val_loader=val_loader, k=23, epochs=epochs, mode='semi_hard')\n",
    "\n",
    "    #Final evaluation on full dataset\n",
    "    mode = \"semi_hard\"\n",
    "    y_true, y_pred, _, f1_list = evaluate_knn_with_elbow_cv(model, full_ds, val_loader, device)\n",
    "\n",
    "    #Some predictions\n",
    "    for true, pred in zip(y_true[:15], y_pred[:15]):\n",
    "        print(f\"True: {true}, Predicted: {pred}\")\n",
    "\n",
    "    #visualize\n",
    "    # visualize_tsne(model, full_ds, val_loader, device)\n",
    "\n",
    "if __name__ == \"__main__\":\n",
    "    main(data_root=\"jupyterLabGeneratedData\\\\fullData\", epochs=40, batch_size=128, lr=1e-5)"
   ]
  },
  {
   "cell_type": "code",
   "execution_count": null,
   "metadata": {},
   "outputs": [],
   "source": []
  },
  {
   "cell_type": "code",
   "execution_count": null,
   "metadata": {},
   "outputs": [],
   "source": []
  },
  {
   "cell_type": "code",
   "execution_count": null,
   "metadata": {},
   "outputs": [],
   "source": []
  },
  {
   "cell_type": "code",
   "execution_count": null,
   "metadata": {},
   "outputs": [],
   "source": []
  },
  {
   "cell_type": "code",
   "execution_count": null,
   "metadata": {},
   "outputs": [],
   "source": []
  },
  {
   "cell_type": "code",
   "execution_count": null,
   "metadata": {
    "colab": {
     "base_uri": "https://localhost:8080/",
     "height": 421
    },
    "id": "Olibt-kKjdkP",
    "outputId": "56d39638-3fe7-4b43-c814-678437ba0da8"
   },
   "outputs": [],
   "source": [
    "import itertools\n",
    "\n",
    "parameter_options = {\n",
    "    'epochs': [2, 5, 10, 20],\n",
    "    'batch_size': [16, 32, 64, 128],\n",
    "    'lr': [1e-4, 2e-5, 1e-5, 3e-4]\n",
    "}\n",
    "\n",
    "\n",
    "\n",
    "\n",
    "def evaluate_parameters(epochs, batch_size, lr, model_class, ds, loader, visualization_fn, device):\n",
    "    model = model_class(embedding_dim=64).to(device)\n",
    "    opt = torch.optim.Adam(model.parameters(), lr=lr)\n",
    "\n",
    "    train_semi_hard(model, loader, opt, device, epochs)\n",
    "    acc, f1, top3, knn, X_train, y_train = evaluate_knn(model, ds, device)\n",
    "\n",
    "    print(f\"Parameters: Epochs: {epochs}, Batch Size: {batch_size}, Learning Rate: {lr}\")\n",
    "    print(f\"Accuracy: {acc:.4f}, F1 Macro: {f1:.4f}, Top-3 Accuracy: {top3:.4f}\")\n",
    "\n",
    "    if visualization_fn:\n",
    "        visualization_fn(model, ds, device)\n",
    "\n",
    "    return acc, f1, top3\n",
    "\n",
    "best_f1 = -np.inf\n",
    "best_params = None\n",
    "\n",
    "for param_combo in itertools.product(*parameter_options.values()):\n",
    "    epochs, batch_size, lr = param_combo\n",
    "    acc, f1, top3 = evaluate_parameters(epochs, batch_size, lr, CNNEmbedding, ds, loader, visualize_tsne, device)\n",
    "\n",
    "    if f1 > best_f1:\n",
    "        best_f1 = f1\n",
    "        best_params = (epochs, batch_size, lr)\n",
    "\n",
    "print(f\"Best parameters: Epochs={best_params[0]}, Batch Size={best_params[1]}, Learning Rate={best_params[2]}\")"
   ]
  },
  {
   "cell_type": "markdown",
   "metadata": {},
   "source": [
    "# Real data prediction"
   ]
  },
  {
   "cell_type": "code",
   "execution_count": 25,
   "metadata": {},
   "outputs": [],
   "source": [
    "file_path = \"jupyterLabGeneratedData\\\\Tibetan_Denisova.txt\"\n",
    "tibets = pd.read_csv(file_path, sep=\"\\t\", header=None)"
   ]
  },
  {
   "cell_type": "code",
   "execution_count": 26,
   "metadata": {},
   "outputs": [
    {
     "data": {
      "text/plain": [
       "22"
      ]
     },
     "execution_count": 26,
     "metadata": {},
     "output_type": "execute_result"
    }
   ],
   "source": [
    "tibets[1].nunique()"
   ]
  },
  {
   "cell_type": "code",
   "execution_count": 27,
   "metadata": {},
   "outputs": [
    {
     "data": {
      "text/plain": [
       "76"
      ]
     },
     "execution_count": 27,
     "metadata": {},
     "output_type": "execute_result"
    }
   ],
   "source": [
    "tibets[0].nunique()"
   ]
  },
  {
   "cell_type": "code",
   "execution_count": 28,
   "metadata": {},
   "outputs": [],
   "source": [
    "df = pd.read_csv(file_path, sep=\"\\t\", header=None, names=[\"ID\", \"Chromosome\", \"Start\", \"End\"])\n",
    "\n",
    "# Since EPAS1 haplotype is on second chromosome we need to filter it out\n",
    "chr2_df = df[df[\"Chromosome\"] == 2].copy()"
   ]
  },
  {
   "cell_type": "code",
   "execution_count": 29,
   "metadata": {},
   "outputs": [
    {
     "data": {
      "text/html": [
       "<div>\n",
       "<style scoped>\n",
       "    .dataframe tbody tr th:only-of-type {\n",
       "        vertical-align: middle;\n",
       "    }\n",
       "\n",
       "    .dataframe tbody tr th {\n",
       "        vertical-align: top;\n",
       "    }\n",
       "\n",
       "    .dataframe thead th {\n",
       "        text-align: right;\n",
       "    }\n",
       "</style>\n",
       "<table border=\"1\" class=\"dataframe\">\n",
       "  <thead>\n",
       "    <tr style=\"text-align: right;\">\n",
       "      <th></th>\n",
       "      <th>ID</th>\n",
       "      <th>Chromosome</th>\n",
       "      <th>Start</th>\n",
       "      <th>End</th>\n",
       "    </tr>\n",
       "  </thead>\n",
       "  <tbody>\n",
       "    <tr>\n",
       "      <th>62</th>\n",
       "      <td>WGC022051D_1</td>\n",
       "      <td>2</td>\n",
       "      <td>25320094</td>\n",
       "      <td>25353963</td>\n",
       "    </tr>\n",
       "    <tr>\n",
       "      <th>63</th>\n",
       "      <td>WGC022051D_1</td>\n",
       "      <td>2</td>\n",
       "      <td>46460121</td>\n",
       "      <td>46461792</td>\n",
       "    </tr>\n",
       "    <tr>\n",
       "      <th>64</th>\n",
       "      <td>WGC022051D_1</td>\n",
       "      <td>2</td>\n",
       "      <td>71346671</td>\n",
       "      <td>71380297</td>\n",
       "    </tr>\n",
       "    <tr>\n",
       "      <th>65</th>\n",
       "      <td>WGC022051D_1</td>\n",
       "      <td>2</td>\n",
       "      <td>123719116</td>\n",
       "      <td>123770269</td>\n",
       "    </tr>\n",
       "    <tr>\n",
       "      <th>66</th>\n",
       "      <td>WGC022051D_1</td>\n",
       "      <td>2</td>\n",
       "      <td>142177714</td>\n",
       "      <td>142179938</td>\n",
       "    </tr>\n",
       "    <tr>\n",
       "      <th>...</th>\n",
       "      <td>...</td>\n",
       "      <td>...</td>\n",
       "      <td>...</td>\n",
       "      <td>...</td>\n",
       "    </tr>\n",
       "    <tr>\n",
       "      <th>9713</th>\n",
       "      <td>WGC022114D_2</td>\n",
       "      <td>2</td>\n",
       "      <td>79366818</td>\n",
       "      <td>79367657</td>\n",
       "    </tr>\n",
       "    <tr>\n",
       "      <th>9714</th>\n",
       "      <td>WGC022114D_2</td>\n",
       "      <td>2</td>\n",
       "      <td>142177714</td>\n",
       "      <td>142179938</td>\n",
       "    </tr>\n",
       "    <tr>\n",
       "      <th>9715</th>\n",
       "      <td>WGC022114D_2</td>\n",
       "      <td>2</td>\n",
       "      <td>218746689</td>\n",
       "      <td>218752956</td>\n",
       "    </tr>\n",
       "    <tr>\n",
       "      <th>9716</th>\n",
       "      <td>WGC022114D_2</td>\n",
       "      <td>2</td>\n",
       "      <td>221654920</td>\n",
       "      <td>221669371</td>\n",
       "    </tr>\n",
       "    <tr>\n",
       "      <th>9717</th>\n",
       "      <td>WGC022114D_2</td>\n",
       "      <td>2</td>\n",
       "      <td>242450090</td>\n",
       "      <td>242465526</td>\n",
       "    </tr>\n",
       "  </tbody>\n",
       "</table>\n",
       "<p>1011 rows × 4 columns</p>\n",
       "</div>"
      ],
      "text/plain": [
       "                ID  Chromosome      Start        End\n",
       "62    WGC022051D_1           2   25320094   25353963\n",
       "63    WGC022051D_1           2   46460121   46461792\n",
       "64    WGC022051D_1           2   71346671   71380297\n",
       "65    WGC022051D_1           2  123719116  123770269\n",
       "66    WGC022051D_1           2  142177714  142179938\n",
       "...            ...         ...        ...        ...\n",
       "9713  WGC022114D_2           2   79366818   79367657\n",
       "9714  WGC022114D_2           2  142177714  142179938\n",
       "9715  WGC022114D_2           2  218746689  218752956\n",
       "9716  WGC022114D_2           2  221654920  221669371\n",
       "9717  WGC022114D_2           2  242450090  242465526\n",
       "\n",
       "[1011 rows x 4 columns]"
      ]
     },
     "execution_count": 29,
     "metadata": {},
     "output_type": "execute_result"
    }
   ],
   "source": [
    "chr2_df"
   ]
  },
  {
   "cell_type": "code",
   "execution_count": null,
   "metadata": {},
   "outputs": [],
   "source": []
  },
  {
   "cell_type": "code",
   "execution_count": null,
   "metadata": {},
   "outputs": [],
   "source": []
  },
  {
   "cell_type": "code",
   "execution_count": 27,
   "metadata": {},
   "outputs": [
    {
     "data": {
      "image/png": "[encoded data removed]",
      "text/plain": [
       "<Figure size 1200x800 with 1 Axes>"
      ]
     },
     "metadata": {},
     "output_type": "display_data"
    }
   ],
   "source": [
    "file_path = \"jupyterLabGeneratedData\\\\Tibetan_Denisova.txt\"\n",
    "df = pd.read_csv(file_path, sep=\"\\t\", header=None, names=[\"ID\", \"Chromosome\", \"Start\", \"End\"])\n",
    "\n",
    "# Focus on chromosome 2\n",
    "chr2_df = df[df[\"Chromosome\"] == 2].copy()\n",
    "\n",
    "# Define EPAS1 region\n",
    "epas1_start = 46077407\n",
    "epas1_end = 47386697\n",
    "n_bins = 3000 \n",
    "\n",
    "\n",
    "positions = np.linspace(epas1_start, epas1_end, n_bins)\n",
    "\n",
    "\n",
    "individuals = sorted(chr2_df[\"ID\"].unique())\n",
    "individual_index = {id_: i for i, id_ in enumerate(individuals)}\n",
    "\n",
    "\n",
    "heatmap = np.zeros((len(individuals), len(positions)), dtype=int)\n",
    "\n",
    "\n",
    "for _, row in chr2_df.iterrows():\n",
    "    if row[\"End\"] < epas1_start or row[\"Start\"] > epas1_end:\n",
    "        continue\n",
    "    i = individual_index[row[\"ID\"]]\n",
    "    covered = (positions >= row[\"Start\"]) & (positions <= row[\"End\"])\n",
    "    heatmap[i, covered] = 1\n",
    "\n",
    "# Plot\n",
    "plt.figure(figsize=(12, 8))\n",
    "plt.imshow(heatmap, aspect='auto', interpolation='none', cmap='viridis')\n",
    "plt.xlabel(\"Absolute genome position\")\n",
    "plt.ylabel(\"Haplotype number\")\n",
    "plt.xticks(\n",
    "    ticks=np.linspace(0, len(positions)-1, 6),\n",
    "    labels=[f\"{int(p):,}\" for p in np.linspace(epas1_start, epas1_end , 6)],\n",
    "    rotation=45\n",
    ")\n",
    "plt.title(\"Denisovan Ancestry in EPAS1 Region (Chromosome 2)\")\n",
    "plt.tight_layout()\n",
    "plt.show()\n"
   ]
  },
  {
   "cell_type": "code",
   "execution_count": 9,
   "metadata": {},
   "outputs": [
    {
     "data": {
      "text/plain": [
       "([('WGC022051D_1', '2', 46460121, 46461792),\n",
       "  ('WGC022052D_1', '2', 46460121, 46461792),\n",
       "  ('WGC022054D_1', '2', 46307712, 46461792),\n",
       "  ('WGC022054D_2', '2', 46409146, 46461792),\n",
       "  ('WGC022055D_1', '2', 46388802, 46411311),\n",
       "  ('WGC022058D_2', '2', 46314064, 46461792),\n",
       "  ('WGC022058D_2', '2', 46519591, 46548350),\n",
       "  ('WGC022059D_2', '2', 46243313, 46312062),\n",
       "  ('WGC022060D_1', '2', 46298751, 46461792),\n",
       "  ('WGC022060D_2', '2', 46298751, 46317104)],\n",
       " 51)"
      ]
     },
     "execution_count": 9,
     "metadata": {},
     "output_type": "execute_result"
    }
   ],
   "source": [
    "chr_of_interest = \"2\"\n",
    "interval_start = 46147912\n",
    "interval_end = 46534660\n",
    "\n",
    "\n",
    "matching_intervals = []\n",
    "with open(file_path, \"r\") as f:\n",
    "    for line in f:\n",
    "        parts = line.strip().split(\"\\t\")\n",
    "        if len(parts) < 4:\n",
    "            continue\n",
    "        person_id, chrom, start_str, end_str = parts[:4]\n",
    "        if chrom != chr_of_interest:\n",
    "            continue\n",
    "        try:\n",
    "            start = int(start_str)\n",
    "            end = int(end_str)\n",
    "        except ValueError:\n",
    "            continue\n",
    "\n",
    "        #сheck if the interval overlaps the target interval\n",
    "        if start <= interval_end and end >= interval_start:\n",
    "            matching_intervals.append((person_id, chrom, start, end))\n",
    "\n",
    "matching_intervals[:10], len(matching_intervals)"
   ]
  },
  {
   "cell_type": "code",
   "execution_count": 11,
   "metadata": {},
   "outputs": [
    {
     "data": {
      "text/plain": [
       "'jupyterLabGeneratedData\\\\chr2_overlaps_with_cm.txt'"
      ]
     },
     "execution_count": 11,
     "metadata": {},
     "output_type": "execute_result"
    }
   ],
   "source": [
    "overlaps_df = pd.read_csv(\"jupyterLabGeneratedData\\\\chr2_overlaps_full.txt\", sep=\"\\t\", header=None, names=[\"ID\", \"chr\", \"start\", \"end\"])\n",
    "cm_df = pd.read_csv(\"jupyterLabGeneratedData\\\\centimorgan legnths.txt\", sep=\"\\t\")\n",
    "\n",
    "\n",
    "overlaps_df[\"cm\"] = cm_df[\"cm\"]\n",
    "\n",
    "output_path = \"jupyterLabGeneratedData\\\\chr2_overlaps_with_cm.txt\"\n",
    "overlaps_df.to_csv(output_path, sep=\"\\t\", index=False)\n",
    "\n",
    "output_path\n"
   ]
  },
  {
   "cell_type": "code",
   "execution_count": 15,
   "metadata": {},
   "outputs": [
    {
     "name": "stdout",
     "output_type": "stream",
     "text": [
      "Output written to per_bin_denisovan_tibetan_summary.csv\n"
     ]
    }
   ],
   "source": [
    "region_start = 46147912\n",
    "region_end = 46534660\n",
    "region_length = region_end - region_start\n",
    "num_bins = 1000\n",
    "bin_size = (region_length) / num_bins\n",
    "\n",
    "\n",
    "region_cm = 1.0\n",
    "bin_size_cm = region_cm / num_bins\n",
    "\n",
    "\n",
    "df = pd.read_csv('jupyterLabGeneratedData\\\\chr2_overlaps_with_cm.txt', sep=\"\\t\")\n",
    "\n",
    "\n",
    "person_tracts = {}\n",
    "for row in df.itertuples(index=False):\n",
    "    pid = row.ID\n",
    "    s = row.start\n",
    "    e = row.end\n",
    "    c = row.cm\n",
    "    if pid not in person_tracts:\n",
    "        person_tracts[pid] = []\n",
    "    person_tracts[pid].append((s, e, c))\n",
    "\n",
    "all_persons = sorted(person_tracts)\n",
    "n_persons = len(all_persons)\n",
    "\n",
    "\n",
    "results = []\n",
    "\n",
    "for bin_idx in range(num_bins):\n",
    "    bin_start = int(region_start + bin_idx * bin_size)\n",
    "    bin_end = int(region_start + (bin_idx + 1) * bin_size)\n",
    "    bin_mid = int((bin_start + bin_end) / 2)\n",
    "\n",
    "    denisovan_base_counts = []\n",
    "    denisovan_tract_lens = []\n",
    "    tibetan_tract_lens = []\n",
    "    denisovan_freq_count = 0\n",
    "\n",
    "    for pid in all_persons:\n",
    "        tracts = person_tracts[pid]\n",
    "        covered_bases = 0\n",
    "        overlapping_tract_lens = []\n",
    "        for s, e, c in tracts:\n",
    "            #overlap between tract and bin\n",
    "            overlap_start = max(bin_start, s)\n",
    "            overlap_end = min(bin_end, e)\n",
    "            if overlap_start < overlap_end:\n",
    "                overlap_bases = overlap_end - overlap_start\n",
    "                covered_bases += overlap_bases\n",
    "\n",
    "                \n",
    "                overlapping_tract_lens.append(c)\n",
    "        denisovan_base_counts.append(covered_bases)\n",
    "        if covered_bases > 0:\n",
    "            denisovan_freq_count += 1\n",
    "            denisovan_tract_lens.append(overlapping_tract_lens[0] if overlapping_tract_lens else np.nan)\n",
    "        else:\n",
    "            # No Denisovan in the bin for this individual\n",
    "            tibetan_tract_lens.append(bin_size_cm)\n",
    "\n",
    "\n",
    "    \n",
    "    #mean covered bases per person\n",
    "    mean_denisovan_bases = np.mean(denisovan_base_counts)\n",
    "\n",
    "\n",
    "    \n",
    "    #fraction of people with Denisovan ancestry in this position of the chromosome\n",
    "    freq_ancestry0_denisovan = denisovan_freq_count / n_persons\n",
    "   \n",
    "    \n",
    "    \n",
    "    #Mean and variance of tract lengths for Denisovan (ancestry 0)\n",
    "    mean_tractlen_denisovan = np.mean(denisovan_tract_lens) if denisovan_tract_lens else np.nan\n",
    "    var_tractlen_denisovan = np.var(denisovan_tract_lens, ddof=0) if denisovan_tract_lens else np.nan\n",
    "\n",
    "\n",
    "    \n",
    "    #Mean and variance of tract length for Tibetan (ancestry 1)\n",
    "    mean_tractlen_tibetan = np.mean(tibetan_tract_lens) if tibetan_tract_lens else np.nan\n",
    "    var_tractlen_tibetan = np.var(tibetan_tract_lens, ddof=0) if tibetan_tract_lens else np.nan\n",
    "\n",
    "\n",
    "\n",
    "\n",
    "    \n",
    "    results.append([\n",
    "        bin_mid,\n",
    "        mean_denisovan_bases,\n",
    "        freq_ancestry0_denisovan,\n",
    "        mean_tractlen_denisovan,\n",
    "        mean_tractlen_tibetan,\n",
    "        var_tractlen_denisovan,\n",
    "        var_tractlen_tibetan\n",
    "    ])\n",
    "\n",
    "\n",
    "\n",
    "\n",
    "\n",
    "\n",
    "\n",
    "colnames = [\n",
    "    \"bin_mid_bp\",\n",
    "    \"mean_denisovan_bases\",\n",
    "    \"freq_ancestry0_denisovan\",\n",
    "    \"mean_tractlen_ancestry0_denisovan_cm\",\n",
    "    \"mean_tractlen_ancestry1_tibetan_cm\",\n",
    "    \"var_tractlen_ancestry0_denisovan_cm\",\n",
    "    \"var_tractlen_ancestry1_tibetan_cm\"\n",
    "]\n",
    "result_df = pd.DataFrame(results, columns=colnames)\n",
    "result_df.to_csv('jupyterLabGeneratedData\\\\per_bin_denisovan_tibetan_summary.csv', sep='\\t', index=False)"
   ]
  },
  {
   "cell_type": "code",
   "execution_count": 37,
   "metadata": {},
   "outputs": [],
   "source": [
    "import csv\n",
    "\n",
    "def convert_csv_to_txt(csv_file_path, txt_file_path):\n",
    "    with open(csv_file_path, 'r', newline='') as csv_file, open(txt_file_path, 'w', newline='') as txt_file:\n",
    "        csv_reader = csv.reader(csv_file)\n",
    "        for row in csv_reader:\n",
    "            txt_file.write('\\t'.join(row) + '\\n')\n",
    "\n",
    "convert_csv_to_txt('jupyterLabGeneratedData\\\\per_bin_denisovan_tibetan_summary.csv', 'jupyterLabGeneratedData\\\\per_bin_denisovan.txt')"
   ]
  },
  {
   "cell_type": "markdown",
   "metadata": {},
   "source": [
    "# Real Data prediction"
   ]
  },
  {
   "cell_type": "code",
   "execution_count": 33,
   "metadata": {},
   "outputs": [],
   "source": [
    "def predict_single_file(model, file_path, device):\n",
    "    #oad and preprocess the file\n",
    "    arr = np.loadtxt(file_path, delimiter=\"\\t\", usecols=(0,1,2,3,4,5), dtype=np.float32)\n",
    "    arr = np.nan_to_num(arr, nan=0.0).T  #[6, 1000]\n",
    "    x = torch.from_numpy(arr).unsqueeze(0).to(device)  #[1, 6, 1000]\n",
    "\n",
    "\n",
    "    model.eval()\n",
    "    with torch.no_grad():\n",
    "        embeddings = model(x)\n",
    "\n",
    "        return embeddings\n"
   ]
  },
  {
   "cell_type": "code",
   "execution_count": 34,
   "metadata": {},
   "outputs": [
    {
     "name": "stdout",
     "output_type": "stream",
     "text": [
      "10570\n",
      "13212\n"
     ]
    },
    {
     "name": "stderr",
     "output_type": "stream",
     "text": [
      "Epoch 1/100: 100%|█████████████████████████████████████████████████████████████████████| 83/83 [00:02<00:00, 37.44it/s]\n"
     ]
    },
    {
     "name": "stdout",
     "output_type": "stream",
     "text": [
      "Epoch 1 Avg Loss: 1.9440\n",
      "Validation k-NN Accuracy: 0.3186\n"
     ]
    },
    {
     "name": "stderr",
     "output_type": "stream",
     "text": [
      "Epoch 2/100: 100%|█████████████████████████████████████████████████████████████████████| 83/83 [00:01<00:00, 43.03it/s]\n"
     ]
    },
    {
     "name": "stdout",
     "output_type": "stream",
     "text": [
      "Epoch 2 Avg Loss: 2.0198\n",
      "Validation k-NN Accuracy: 0.3235\n"
     ]
    },
    {
     "name": "stderr",
     "output_type": "stream",
     "text": [
      "Epoch 3/100: 100%|█████████████████████████████████████████████████████████████████████| 83/83 [00:01<00:00, 42.96it/s]\n"
     ]
    },
    {
     "name": "stdout",
     "output_type": "stream",
     "text": [
      "Epoch 3 Avg Loss: 2.0042\n",
      "Validation k-NN Accuracy: 0.3261\n"
     ]
    },
    {
     "name": "stderr",
     "output_type": "stream",
     "text": [
      "Epoch 4/100: 100%|█████████████████████████████████████████████████████████████████████| 83/83 [00:01<00:00, 42.88it/s]\n"
     ]
    },
    {
     "name": "stdout",
     "output_type": "stream",
     "text": [
      "Epoch 4 Avg Loss: 2.0009\n",
      "Validation k-NN Accuracy: 0.3231\n"
     ]
    },
    {
     "name": "stderr",
     "output_type": "stream",
     "text": [
      "Epoch 5/100: 100%|█████████████████████████████████████████████████████████████████████| 83/83 [00:01<00:00, 42.80it/s]\n"
     ]
    },
    {
     "name": "stdout",
     "output_type": "stream",
     "text": [
      "Epoch 5 Avg Loss: 1.9945\n",
      "Validation k-NN Accuracy: 0.3174\n"
     ]
    },
    {
     "name": "stderr",
     "output_type": "stream",
     "text": [
      "Epoch 6/100: 100%|█████████████████████████████████████████████████████████████████████| 83/83 [00:01<00:00, 42.92it/s]\n"
     ]
    },
    {
     "name": "stdout",
     "output_type": "stream",
     "text": [
      "Epoch 6 Avg Loss: 1.9865\n",
      "Validation k-NN Accuracy: 0.3243\n"
     ]
    },
    {
     "name": "stderr",
     "output_type": "stream",
     "text": [
      "Epoch 7/100: 100%|█████████████████████████████████████████████████████████████████████| 83/83 [00:01<00:00, 42.65it/s]\n"
     ]
    },
    {
     "name": "stdout",
     "output_type": "stream",
     "text": [
      "Epoch 7 Avg Loss: 1.9822\n",
      "Validation k-NN Accuracy: 0.3220\n"
     ]
    },
    {
     "name": "stderr",
     "output_type": "stream",
     "text": [
      "Epoch 8/100: 100%|█████████████████████████████████████████████████████████████████████| 83/83 [00:01<00:00, 42.81it/s]\n"
     ]
    },
    {
     "name": "stdout",
     "output_type": "stream",
     "text": [
      "Epoch 8 Avg Loss: 1.9877\n",
      "Validation k-NN Accuracy: 0.3216\n"
     ]
    },
    {
     "name": "stderr",
     "output_type": "stream",
     "text": [
      "Epoch 9/100: 100%|█████████████████████████████████████████████████████████████████████| 83/83 [00:01<00:00, 42.80it/s]\n"
     ]
    },
    {
     "name": "stdout",
     "output_type": "stream",
     "text": [
      "Epoch 9 Avg Loss: 1.9826\n",
      "Validation k-NN Accuracy: 0.3280\n"
     ]
    },
    {
     "name": "stderr",
     "output_type": "stream",
     "text": [
      "Epoch 10/100: 100%|████████████████████████████████████████████████████████████████████| 83/83 [00:01<00:00, 42.87it/s]\n"
     ]
    },
    {
     "name": "stdout",
     "output_type": "stream",
     "text": [
      "Epoch 10 Avg Loss: 1.9909\n",
      "Validation k-NN Accuracy: 0.3261\n"
     ]
    },
    {
     "name": "stderr",
     "output_type": "stream",
     "text": [
      "Epoch 11/100: 100%|████████████████████████████████████████████████████████████████████| 83/83 [00:01<00:00, 42.60it/s]\n"
     ]
    },
    {
     "name": "stdout",
     "output_type": "stream",
     "text": [
      "Epoch 11 Avg Loss: 1.9859\n",
      "Validation k-NN Accuracy: 0.3208\n"
     ]
    },
    {
     "name": "stderr",
     "output_type": "stream",
     "text": [
      "Epoch 12/100: 100%|████████████████████████████████████████████████████████████████████| 83/83 [00:01<00:00, 42.71it/s]\n"
     ]
    },
    {
     "name": "stdout",
     "output_type": "stream",
     "text": [
      "Epoch 12 Avg Loss: 1.9905\n",
      "Validation k-NN Accuracy: 0.3280\n"
     ]
    },
    {
     "name": "stderr",
     "output_type": "stream",
     "text": [
      "Epoch 13/100: 100%|████████████████████████████████████████████████████████████████████| 83/83 [00:01<00:00, 42.69it/s]\n"
     ]
    },
    {
     "name": "stdout",
     "output_type": "stream",
     "text": [
      "Epoch 13 Avg Loss: 1.9887\n",
      "Validation k-NN Accuracy: 0.3208\n"
     ]
    },
    {
     "name": "stderr",
     "output_type": "stream",
     "text": [
      "Epoch 14/100: 100%|████████████████████████████████████████████████████████████████████| 83/83 [00:01<00:00, 42.82it/s]\n"
     ]
    },
    {
     "name": "stdout",
     "output_type": "stream",
     "text": [
      "Epoch 14 Avg Loss: 1.9937\n",
      "Validation k-NN Accuracy: 0.3254\n"
     ]
    },
    {
     "name": "stderr",
     "output_type": "stream",
     "text": [
      "Epoch 15/100: 100%|████████████████████████████████████████████████████████████████████| 83/83 [00:01<00:00, 42.81it/s]\n"
     ]
    },
    {
     "name": "stdout",
     "output_type": "stream",
     "text": [
      "Epoch 15 Avg Loss: 1.9846\n",
      "Validation k-NN Accuracy: 0.3295\n"
     ]
    },
    {
     "name": "stderr",
     "output_type": "stream",
     "text": [
      "Epoch 16/100: 100%|████████████████████████████████████████████████████████████████████| 83/83 [00:01<00:00, 42.80it/s]\n"
     ]
    },
    {
     "name": "stdout",
     "output_type": "stream",
     "text": [
      "Epoch 16 Avg Loss: 1.9934\n",
      "Validation k-NN Accuracy: 0.3280\n"
     ]
    },
    {
     "name": "stderr",
     "output_type": "stream",
     "text": [
      "Epoch 17/100: 100%|████████████████████████████████████████████████████████████████████| 83/83 [00:01<00:00, 42.73it/s]\n"
     ]
    },
    {
     "name": "stdout",
     "output_type": "stream",
     "text": [
      "Epoch 17 Avg Loss: 1.9912\n",
      "Validation k-NN Accuracy: 0.3261\n"
     ]
    },
    {
     "name": "stderr",
     "output_type": "stream",
     "text": [
      "Epoch 18/100: 100%|████████████████████████████████████████████████████████████████████| 83/83 [00:01<00:00, 42.54it/s]\n"
     ]
    },
    {
     "name": "stdout",
     "output_type": "stream",
     "text": [
      "Epoch 18 Avg Loss: 1.9982\n",
      "Validation k-NN Accuracy: 0.3295\n"
     ]
    },
    {
     "name": "stderr",
     "output_type": "stream",
     "text": [
      "Epoch 19/100: 100%|████████████████████████████████████████████████████████████████████| 83/83 [00:01<00:00, 42.51it/s]\n"
     ]
    },
    {
     "name": "stdout",
     "output_type": "stream",
     "text": [
      "Epoch 19 Avg Loss: 1.9914\n",
      "Validation k-NN Accuracy: 0.3295\n"
     ]
    },
    {
     "name": "stderr",
     "output_type": "stream",
     "text": [
      "Epoch 20/100: 100%|████████████████████████████████████████████████████████████████████| 83/83 [00:01<00:00, 42.70it/s]\n"
     ]
    },
    {
     "name": "stdout",
     "output_type": "stream",
     "text": [
      "Epoch 20 Avg Loss: 1.9938\n",
      "Validation k-NN Accuracy: 0.3337\n"
     ]
    },
    {
     "name": "stderr",
     "output_type": "stream",
     "text": [
      "Epoch 21/100: 100%|████████████████████████████████████████████████████████████████████| 83/83 [00:01<00:00, 42.43it/s]\n"
     ]
    },
    {
     "name": "stdout",
     "output_type": "stream",
     "text": [
      "Epoch 21 Avg Loss: 1.9954\n",
      "Validation k-NN Accuracy: 0.3424\n"
     ]
    },
    {
     "name": "stderr",
     "output_type": "stream",
     "text": [
      "Epoch 22/100: 100%|████████████████████████████████████████████████████████████████████| 83/83 [00:01<00:00, 42.70it/s]\n"
     ]
    },
    {
     "name": "stdout",
     "output_type": "stream",
     "text": [
      "Epoch 22 Avg Loss: 1.9950\n",
      "Validation k-NN Accuracy: 0.3307\n"
     ]
    },
    {
     "name": "stderr",
     "output_type": "stream",
     "text": [
      "Epoch 23/100: 100%|████████████████████████████████████████████████████████████████████| 83/83 [00:01<00:00, 42.66it/s]\n"
     ]
    },
    {
     "name": "stdout",
     "output_type": "stream",
     "text": [
      "Epoch 23 Avg Loss: 1.9951\n",
      "Validation k-NN Accuracy: 0.3258\n"
     ]
    },
    {
     "name": "stderr",
     "output_type": "stream",
     "text": [
      "Epoch 24/100: 100%|████████████████████████████████████████████████████████████████████| 83/83 [00:01<00:00, 42.54it/s]\n"
     ]
    },
    {
     "name": "stdout",
     "output_type": "stream",
     "text": [
      "Epoch 24 Avg Loss: 1.9938\n",
      "Validation k-NN Accuracy: 0.3318\n"
     ]
    },
    {
     "name": "stderr",
     "output_type": "stream",
     "text": [
      "Epoch 25/100: 100%|████████████████████████████████████████████████████████████████████| 83/83 [00:01<00:00, 42.67it/s]\n"
     ]
    },
    {
     "name": "stdout",
     "output_type": "stream",
     "text": [
      "Epoch 25 Avg Loss: 1.9896\n",
      "Validation k-NN Accuracy: 0.3311\n"
     ]
    },
    {
     "name": "stderr",
     "output_type": "stream",
     "text": [
      "Epoch 26/100: 100%|████████████████████████████████████████████████████████████████████| 83/83 [00:01<00:00, 42.58it/s]\n"
     ]
    },
    {
     "name": "stdout",
     "output_type": "stream",
     "text": [
      "Epoch 26 Avg Loss: 2.0001\n",
      "Validation k-NN Accuracy: 0.3292\n"
     ]
    },
    {
     "name": "stderr",
     "output_type": "stream",
     "text": [
      "Epoch 27/100: 100%|████████████████████████████████████████████████████████████████████| 83/83 [00:01<00:00, 42.55it/s]\n"
     ]
    },
    {
     "name": "stdout",
     "output_type": "stream",
     "text": [
      "Epoch 27 Avg Loss: 1.9948\n",
      "Validation k-NN Accuracy: 0.3243\n"
     ]
    },
    {
     "name": "stderr",
     "output_type": "stream",
     "text": [
      "Epoch 28/100: 100%|████████████████████████████████████████████████████████████████████| 83/83 [00:01<00:00, 42.55it/s]\n"
     ]
    },
    {
     "name": "stdout",
     "output_type": "stream",
     "text": [
      "Epoch 28 Avg Loss: 1.9894\n",
      "Validation k-NN Accuracy: 0.3314\n"
     ]
    },
    {
     "name": "stderr",
     "output_type": "stream",
     "text": [
      "Epoch 29/100: 100%|████████████████████████████████████████████████████████████████████| 83/83 [00:01<00:00, 42.55it/s]\n"
     ]
    },
    {
     "name": "stdout",
     "output_type": "stream",
     "text": [
      "Epoch 29 Avg Loss: 1.9940\n",
      "Validation k-NN Accuracy: 0.3277\n"
     ]
    },
    {
     "name": "stderr",
     "output_type": "stream",
     "text": [
      "Epoch 30/100: 100%|████████████████████████████████████████████████████████████████████| 83/83 [00:01<00:00, 42.82it/s]\n"
     ]
    },
    {
     "name": "stdout",
     "output_type": "stream",
     "text": [
      "Epoch 30 Avg Loss: 2.0012\n",
      "Validation k-NN Accuracy: 0.3284\n"
     ]
    },
    {
     "name": "stderr",
     "output_type": "stream",
     "text": [
      "Epoch 31/100: 100%|████████████████████████████████████████████████████████████████████| 83/83 [00:01<00:00, 42.53it/s]\n"
     ]
    },
    {
     "name": "stdout",
     "output_type": "stream",
     "text": [
      "Epoch 31 Avg Loss: 2.0002\n",
      "Validation k-NN Accuracy: 0.3326\n"
     ]
    },
    {
     "name": "stderr",
     "output_type": "stream",
     "text": [
      "Epoch 32/100: 100%|████████████████████████████████████████████████████████████████████| 83/83 [00:01<00:00, 42.54it/s]\n"
     ]
    },
    {
     "name": "stdout",
     "output_type": "stream",
     "text": [
      "Epoch 32 Avg Loss: 1.9911\n",
      "Validation k-NN Accuracy: 0.3269\n"
     ]
    },
    {
     "name": "stderr",
     "output_type": "stream",
     "text": [
      "Epoch 33/100: 100%|████████████████████████████████████████████████████████████████████| 83/83 [00:01<00:00, 42.70it/s]\n"
     ]
    },
    {
     "name": "stdout",
     "output_type": "stream",
     "text": [
      "Epoch 33 Avg Loss: 1.9882\n",
      "Validation k-NN Accuracy: 0.3318\n"
     ]
    },
    {
     "name": "stderr",
     "output_type": "stream",
     "text": [
      "Epoch 34/100: 100%|████████████████████████████████████████████████████████████████████| 83/83 [00:01<00:00, 42.46it/s]\n"
     ]
    },
    {
     "name": "stdout",
     "output_type": "stream",
     "text": [
      "Epoch 34 Avg Loss: 1.9930\n",
      "Validation k-NN Accuracy: 0.3348\n"
     ]
    },
    {
     "name": "stderr",
     "output_type": "stream",
     "text": [
      "Epoch 35/100: 100%|████████████████████████████████████████████████████████████████████| 83/83 [00:01<00:00, 42.44it/s]\n"
     ]
    },
    {
     "name": "stdout",
     "output_type": "stream",
     "text": [
      "Epoch 35 Avg Loss: 1.9970\n",
      "Validation k-NN Accuracy: 0.3337\n"
     ]
    },
    {
     "name": "stderr",
     "output_type": "stream",
     "text": [
      "Epoch 36/100: 100%|████████████████████████████████████████████████████████████████████| 83/83 [00:01<00:00, 42.45it/s]\n"
     ]
    },
    {
     "name": "stdout",
     "output_type": "stream",
     "text": [
      "Epoch 36 Avg Loss: 2.0058\n",
      "Validation k-NN Accuracy: 0.3337\n"
     ]
    },
    {
     "name": "stderr",
     "output_type": "stream",
     "text": [
      "Epoch 37/100: 100%|████████████████████████████████████████████████████████████████████| 83/83 [00:01<00:00, 42.17it/s]\n"
     ]
    },
    {
     "name": "stdout",
     "output_type": "stream",
     "text": [
      "Epoch 37 Avg Loss: 1.9885\n",
      "Validation k-NN Accuracy: 0.3352\n"
     ]
    },
    {
     "name": "stderr",
     "output_type": "stream",
     "text": [
      "Epoch 38/100: 100%|████████████████████████████████████████████████████████████████████| 83/83 [00:01<00:00, 42.00it/s]\n"
     ]
    },
    {
     "name": "stdout",
     "output_type": "stream",
     "text": [
      "Epoch 38 Avg Loss: 1.9981\n",
      "Validation k-NN Accuracy: 0.3231\n"
     ]
    },
    {
     "name": "stderr",
     "output_type": "stream",
     "text": [
      "Epoch 39/100: 100%|████████████████████████████████████████████████████████████████████| 83/83 [00:01<00:00, 41.89it/s]\n"
     ]
    },
    {
     "name": "stdout",
     "output_type": "stream",
     "text": [
      "Epoch 39 Avg Loss: 2.0010\n",
      "Validation k-NN Accuracy: 0.3208\n"
     ]
    },
    {
     "name": "stderr",
     "output_type": "stream",
     "text": [
      "Epoch 40/100: 100%|████████████████████████████████████████████████████████████████████| 83/83 [00:01<00:00, 42.24it/s]\n"
     ]
    },
    {
     "name": "stdout",
     "output_type": "stream",
     "text": [
      "Epoch 40 Avg Loss: 1.9889\n",
      "Validation k-NN Accuracy: 0.3337\n"
     ]
    },
    {
     "name": "stderr",
     "output_type": "stream",
     "text": [
      "Epoch 41/100: 100%|████████████████████████████████████████████████████████████████████| 83/83 [00:01<00:00, 42.11it/s]\n"
     ]
    },
    {
     "name": "stdout",
     "output_type": "stream",
     "text": [
      "Epoch 41 Avg Loss: 1.9936\n",
      "Validation k-NN Accuracy: 0.3284\n"
     ]
    },
    {
     "name": "stderr",
     "output_type": "stream",
     "text": [
      "Epoch 42/100: 100%|████████████████████████████████████████████████████████████████████| 83/83 [00:01<00:00, 41.63it/s]\n"
     ]
    },
    {
     "name": "stdout",
     "output_type": "stream",
     "text": [
      "Epoch 42 Avg Loss: 1.9996\n",
      "Validation k-NN Accuracy: 0.3280\n"
     ]
    },
    {
     "name": "stderr",
     "output_type": "stream",
     "text": [
      "Epoch 43/100: 100%|████████████████████████████████████████████████████████████████████| 83/83 [00:01<00:00, 41.88it/s]\n"
     ]
    },
    {
     "name": "stdout",
     "output_type": "stream",
     "text": [
      "Epoch 43 Avg Loss: 1.9952\n",
      "Validation k-NN Accuracy: 0.3360\n"
     ]
    },
    {
     "name": "stderr",
     "output_type": "stream",
     "text": [
      "Epoch 44/100: 100%|████████████████████████████████████████████████████████████████████| 83/83 [00:01<00:00, 41.91it/s]\n"
     ]
    },
    {
     "name": "stdout",
     "output_type": "stream",
     "text": [
      "Epoch 44 Avg Loss: 1.9826\n",
      "Validation k-NN Accuracy: 0.3250\n"
     ]
    },
    {
     "name": "stderr",
     "output_type": "stream",
     "text": [
      "Epoch 45/100: 100%|████████████████████████████████████████████████████████████████████| 83/83 [00:01<00:00, 41.96it/s]\n"
     ]
    },
    {
     "name": "stdout",
     "output_type": "stream",
     "text": [
      "Epoch 45 Avg Loss: 2.0056\n",
      "Validation k-NN Accuracy: 0.3352\n"
     ]
    },
    {
     "name": "stderr",
     "output_type": "stream",
     "text": [
      "Epoch 46/100: 100%|████████████████████████████████████████████████████████████████████| 83/83 [00:01<00:00, 41.62it/s]\n"
     ]
    },
    {
     "name": "stdout",
     "output_type": "stream",
     "text": [
      "Epoch 46 Avg Loss: 1.9824\n",
      "Validation k-NN Accuracy: 0.3314\n"
     ]
    },
    {
     "name": "stderr",
     "output_type": "stream",
     "text": [
      "Epoch 47/100: 100%|████████████████████████████████████████████████████████████████████| 83/83 [00:01<00:00, 41.92it/s]\n"
     ]
    },
    {
     "name": "stdout",
     "output_type": "stream",
     "text": [
      "Epoch 47 Avg Loss: 1.9993\n",
      "Validation k-NN Accuracy: 0.3231\n"
     ]
    },
    {
     "name": "stderr",
     "output_type": "stream",
     "text": [
      "Epoch 48/100: 100%|████████████████████████████████████████████████████████████████████| 83/83 [00:01<00:00, 41.89it/s]\n"
     ]
    },
    {
     "name": "stdout",
     "output_type": "stream",
     "text": [
      "Epoch 48 Avg Loss: 1.9885\n",
      "Validation k-NN Accuracy: 0.3314\n"
     ]
    },
    {
     "name": "stderr",
     "output_type": "stream",
     "text": [
      "Epoch 49/100: 100%|████████████████████████████████████████████████████████████████████| 83/83 [00:01<00:00, 41.54it/s]\n"
     ]
    },
    {
     "name": "stdout",
     "output_type": "stream",
     "text": [
      "Epoch 49 Avg Loss: 1.9926\n",
      "Validation k-NN Accuracy: 0.3277\n"
     ]
    },
    {
     "name": "stderr",
     "output_type": "stream",
     "text": [
      "Epoch 50/100: 100%|████████████████████████████████████████████████████████████████████| 83/83 [00:01<00:00, 41.73it/s]\n"
     ]
    },
    {
     "name": "stdout",
     "output_type": "stream",
     "text": [
      "Epoch 50 Avg Loss: 2.0010\n",
      "Validation k-NN Accuracy: 0.3435\n"
     ]
    },
    {
     "name": "stderr",
     "output_type": "stream",
     "text": [
      "Epoch 51/100: 100%|████████████████████████████████████████████████████████████████████| 83/83 [00:01<00:00, 41.88it/s]\n"
     ]
    },
    {
     "name": "stdout",
     "output_type": "stream",
     "text": [
      "Epoch 51 Avg Loss: 1.9905\n",
      "Validation k-NN Accuracy: 0.3447\n"
     ]
    },
    {
     "name": "stderr",
     "output_type": "stream",
     "text": [
      "Epoch 52/100: 100%|████████████████████████████████████████████████████████████████████| 83/83 [00:01<00:00, 41.68it/s]\n"
     ]
    },
    {
     "name": "stdout",
     "output_type": "stream",
     "text": [
      "Epoch 52 Avg Loss: 1.9880\n",
      "Validation k-NN Accuracy: 0.3326\n"
     ]
    },
    {
     "name": "stderr",
     "output_type": "stream",
     "text": [
      "Epoch 53/100: 100%|████████████████████████████████████████████████████████████████████| 83/83 [00:01<00:00, 42.01it/s]\n"
     ]
    },
    {
     "name": "stdout",
     "output_type": "stream",
     "text": [
      "Epoch 53 Avg Loss: 1.9950\n",
      "Validation k-NN Accuracy: 0.3333\n"
     ]
    },
    {
     "name": "stderr",
     "output_type": "stream",
     "text": [
      "Epoch 54/100: 100%|████████████████████████████████████████████████████████████████████| 83/83 [00:01<00:00, 41.55it/s]\n"
     ]
    },
    {
     "name": "stdout",
     "output_type": "stream",
     "text": [
      "Epoch 54 Avg Loss: 1.9970\n",
      "Validation k-NN Accuracy: 0.3367\n"
     ]
    },
    {
     "name": "stderr",
     "output_type": "stream",
     "text": [
      "Epoch 55/100: 100%|████████████████████████████████████████████████████████████████████| 83/83 [00:01<00:00, 41.71it/s]\n"
     ]
    },
    {
     "name": "stdout",
     "output_type": "stream",
     "text": [
      "Epoch 55 Avg Loss: 1.9934\n",
      "Validation k-NN Accuracy: 0.3424\n"
     ]
    },
    {
     "name": "stderr",
     "output_type": "stream",
     "text": [
      "Epoch 56/100: 100%|████████████████████████████████████████████████████████████████████| 83/83 [00:01<00:00, 41.75it/s]\n"
     ]
    },
    {
     "name": "stdout",
     "output_type": "stream",
     "text": [
      "Epoch 56 Avg Loss: 1.9874\n",
      "Validation k-NN Accuracy: 0.3405\n"
     ]
    },
    {
     "name": "stderr",
     "output_type": "stream",
     "text": [
      "Epoch 57/100: 100%|████████████████████████████████████████████████████████████████████| 83/83 [00:01<00:00, 41.52it/s]\n"
     ]
    },
    {
     "name": "stdout",
     "output_type": "stream",
     "text": [
      "Epoch 57 Avg Loss: 1.9960\n",
      "Validation k-NN Accuracy: 0.3341\n"
     ]
    },
    {
     "name": "stderr",
     "output_type": "stream",
     "text": [
      "Epoch 58/100: 100%|████████████████████████████████████████████████████████████████████| 83/83 [00:02<00:00, 41.38it/s]\n"
     ]
    },
    {
     "name": "stdout",
     "output_type": "stream",
     "text": [
      "Epoch 58 Avg Loss: 1.9890\n",
      "Validation k-NN Accuracy: 0.3280\n"
     ]
    },
    {
     "name": "stderr",
     "output_type": "stream",
     "text": [
      "Epoch 59/100: 100%|████████████████████████████████████████████████████████████████████| 83/83 [00:01<00:00, 41.57it/s]\n"
     ]
    },
    {
     "name": "stdout",
     "output_type": "stream",
     "text": [
      "Epoch 59 Avg Loss: 1.9813\n",
      "Validation k-NN Accuracy: 0.3383\n"
     ]
    },
    {
     "name": "stderr",
     "output_type": "stream",
     "text": [
      "Epoch 60/100: 100%|████████████████████████████████████████████████████████████████████| 83/83 [00:02<00:00, 41.04it/s]\n"
     ]
    },
    {
     "name": "stdout",
     "output_type": "stream",
     "text": [
      "Epoch 60 Avg Loss: 1.9871\n",
      "Validation k-NN Accuracy: 0.3356\n"
     ]
    },
    {
     "name": "stderr",
     "output_type": "stream",
     "text": [
      "Epoch 61/100: 100%|████████████████████████████████████████████████████████████████████| 83/83 [00:02<00:00, 41.42it/s]\n"
     ]
    },
    {
     "name": "stdout",
     "output_type": "stream",
     "text": [
      "Epoch 61 Avg Loss: 1.9960\n",
      "Validation k-NN Accuracy: 0.3277\n"
     ]
    },
    {
     "name": "stderr",
     "output_type": "stream",
     "text": [
      "Epoch 62/100: 100%|████████████████████████████████████████████████████████████████████| 83/83 [00:01<00:00, 41.79it/s]\n"
     ]
    },
    {
     "name": "stdout",
     "output_type": "stream",
     "text": [
      "Epoch 62 Avg Loss: 1.9941\n",
      "Validation k-NN Accuracy: 0.3435\n"
     ]
    },
    {
     "name": "stderr",
     "output_type": "stream",
     "text": [
      "Epoch 63/100: 100%|████████████████████████████████████████████████████████████████████| 83/83 [00:01<00:00, 41.83it/s]\n"
     ]
    },
    {
     "name": "stdout",
     "output_type": "stream",
     "text": [
      "Epoch 63 Avg Loss: 1.9932\n",
      "Validation k-NN Accuracy: 0.3348\n"
     ]
    },
    {
     "name": "stderr",
     "output_type": "stream",
     "text": [
      "Epoch 64/100: 100%|████████████████████████████████████████████████████████████████████| 83/83 [00:02<00:00, 41.49it/s]\n"
     ]
    },
    {
     "name": "stdout",
     "output_type": "stream",
     "text": [
      "Epoch 64 Avg Loss: 1.9916\n",
      "Validation k-NN Accuracy: 0.3273\n"
     ]
    },
    {
     "name": "stderr",
     "output_type": "stream",
     "text": [
      "Epoch 65/100: 100%|████████████████████████████████████████████████████████████████████| 83/83 [00:02<00:00, 41.19it/s]\n"
     ]
    },
    {
     "name": "stdout",
     "output_type": "stream",
     "text": [
      "Epoch 65 Avg Loss: 1.9924\n",
      "Validation k-NN Accuracy: 0.3379\n"
     ]
    },
    {
     "name": "stderr",
     "output_type": "stream",
     "text": [
      "Epoch 66/100: 100%|████████████████████████████████████████████████████████████████████| 83/83 [00:02<00:00, 41.10it/s]\n"
     ]
    },
    {
     "name": "stdout",
     "output_type": "stream",
     "text": [
      "Epoch 66 Avg Loss: 1.9914\n",
      "Validation k-NN Accuracy: 0.3295\n"
     ]
    },
    {
     "name": "stderr",
     "output_type": "stream",
     "text": [
      "Epoch 67/100: 100%|████████████████████████████████████████████████████████████████████| 83/83 [00:02<00:00, 41.31it/s]\n"
     ]
    },
    {
     "name": "stdout",
     "output_type": "stream",
     "text": [
      "Epoch 67 Avg Loss: 1.9885\n",
      "Validation k-NN Accuracy: 0.3292\n"
     ]
    },
    {
     "name": "stderr",
     "output_type": "stream",
     "text": [
      "Epoch 68/100: 100%|████████████████████████████████████████████████████████████████████| 83/83 [00:02<00:00, 41.44it/s]\n"
     ]
    },
    {
     "name": "stdout",
     "output_type": "stream",
     "text": [
      "Epoch 68 Avg Loss: 1.9881\n",
      "Validation k-NN Accuracy: 0.3348\n"
     ]
    },
    {
     "name": "stderr",
     "output_type": "stream",
     "text": [
      "Epoch 69/100: 100%|████████████████████████████████████████████████████████████████████| 83/83 [00:02<00:00, 40.78it/s]\n"
     ]
    },
    {
     "name": "stdout",
     "output_type": "stream",
     "text": [
      "Epoch 69 Avg Loss: 1.9862\n",
      "Validation k-NN Accuracy: 0.3314\n"
     ]
    },
    {
     "name": "stderr",
     "output_type": "stream",
     "text": [
      "Epoch 70/100: 100%|████████████████████████████████████████████████████████████████████| 83/83 [00:02<00:00, 40.85it/s]\n"
     ]
    },
    {
     "name": "stdout",
     "output_type": "stream",
     "text": [
      "Epoch 70 Avg Loss: 1.9925\n",
      "Validation k-NN Accuracy: 0.3326\n"
     ]
    },
    {
     "name": "stderr",
     "output_type": "stream",
     "text": [
      "Epoch 71/100: 100%|████████████████████████████████████████████████████████████████████| 83/83 [00:02<00:00, 41.36it/s]\n"
     ]
    },
    {
     "name": "stdout",
     "output_type": "stream",
     "text": [
      "Epoch 71 Avg Loss: 1.9950\n",
      "Validation k-NN Accuracy: 0.3288\n"
     ]
    },
    {
     "name": "stderr",
     "output_type": "stream",
     "text": [
      "Epoch 72/100: 100%|████████████████████████████████████████████████████████████████████| 83/83 [00:02<00:00, 41.16it/s]\n"
     ]
    },
    {
     "name": "stdout",
     "output_type": "stream",
     "text": [
      "Epoch 72 Avg Loss: 1.9892\n",
      "Validation k-NN Accuracy: 0.3337\n"
     ]
    },
    {
     "name": "stderr",
     "output_type": "stream",
     "text": [
      "Epoch 73/100: 100%|████████████████████████████████████████████████████████████████████| 83/83 [00:02<00:00, 41.38it/s]\n"
     ]
    },
    {
     "name": "stdout",
     "output_type": "stream",
     "text": [
      "Epoch 73 Avg Loss: 1.9829\n",
      "Validation k-NN Accuracy: 0.3383\n"
     ]
    },
    {
     "name": "stderr",
     "output_type": "stream",
     "text": [
      "Epoch 74/100: 100%|████████████████████████████████████████████████████████████████████| 83/83 [00:02<00:00, 40.97it/s]\n"
     ]
    },
    {
     "name": "stdout",
     "output_type": "stream",
     "text": [
      "Epoch 74 Avg Loss: 1.9921\n",
      "Validation k-NN Accuracy: 0.3307\n"
     ]
    },
    {
     "name": "stderr",
     "output_type": "stream",
     "text": [
      "Epoch 75/100: 100%|████████████████████████████████████████████████████████████████████| 83/83 [00:02<00:00, 41.40it/s]\n"
     ]
    },
    {
     "name": "stdout",
     "output_type": "stream",
     "text": [
      "Epoch 75 Avg Loss: 1.9905\n",
      "Validation k-NN Accuracy: 0.3398\n"
     ]
    },
    {
     "name": "stderr",
     "output_type": "stream",
     "text": [
      "Epoch 76/100: 100%|████████████████████████████████████████████████████████████████████| 83/83 [00:02<00:00, 41.16it/s]\n"
     ]
    },
    {
     "name": "stdout",
     "output_type": "stream",
     "text": [
      "Epoch 76 Avg Loss: 1.9845\n",
      "Validation k-NN Accuracy: 0.3398\n"
     ]
    },
    {
     "name": "stderr",
     "output_type": "stream",
     "text": [
      "Epoch 77/100: 100%|████████████████████████████████████████████████████████████████████| 83/83 [00:02<00:00, 41.44it/s]\n"
     ]
    },
    {
     "name": "stdout",
     "output_type": "stream",
     "text": [
      "Epoch 77 Avg Loss: 1.9969\n",
      "Validation k-NN Accuracy: 0.3314\n"
     ]
    },
    {
     "name": "stderr",
     "output_type": "stream",
     "text": [
      "Epoch 78/100: 100%|████████████████████████████████████████████████████████████████████| 83/83 [00:02<00:00, 40.69it/s]\n"
     ]
    },
    {
     "name": "stdout",
     "output_type": "stream",
     "text": [
      "Epoch 78 Avg Loss: 1.9763\n",
      "Validation k-NN Accuracy: 0.3280\n"
     ]
    },
    {
     "name": "stderr",
     "output_type": "stream",
     "text": [
      "Epoch 79/100: 100%|████████████████████████████████████████████████████████████████████| 83/83 [00:02<00:00, 40.56it/s]\n"
     ]
    },
    {
     "name": "stdout",
     "output_type": "stream",
     "text": [
      "Epoch 79 Avg Loss: 1.9930\n",
      "Validation k-NN Accuracy: 0.3292\n"
     ]
    },
    {
     "name": "stderr",
     "output_type": "stream",
     "text": [
      "Epoch 80/100: 100%|████████████████████████████████████████████████████████████████████| 83/83 [00:02<00:00, 41.32it/s]\n"
     ]
    },
    {
     "name": "stdout",
     "output_type": "stream",
     "text": [
      "Epoch 80 Avg Loss: 1.9812\n",
      "Validation k-NN Accuracy: 0.3383\n"
     ]
    },
    {
     "name": "stderr",
     "output_type": "stream",
     "text": [
      "Epoch 81/100: 100%|████████████████████████████████████████████████████████████████████| 83/83 [00:01<00:00, 41.50it/s]\n"
     ]
    },
    {
     "name": "stdout",
     "output_type": "stream",
     "text": [
      "Epoch 81 Avg Loss: 1.9955\n",
      "Validation k-NN Accuracy: 0.3352\n"
     ]
    },
    {
     "name": "stderr",
     "output_type": "stream",
     "text": [
      "Epoch 82/100: 100%|████████████████████████████████████████████████████████████████████| 83/83 [00:02<00:00, 41.13it/s]\n"
     ]
    },
    {
     "name": "stdout",
     "output_type": "stream",
     "text": [
      "Epoch 82 Avg Loss: 1.9889\n",
      "Validation k-NN Accuracy: 0.3356\n"
     ]
    },
    {
     "name": "stderr",
     "output_type": "stream",
     "text": [
      "Epoch 83/100: 100%|████████████████████████████████████████████████████████████████████| 83/83 [00:02<00:00, 40.78it/s]\n"
     ]
    },
    {
     "name": "stdout",
     "output_type": "stream",
     "text": [
      "Epoch 83 Avg Loss: 1.9819\n",
      "Validation k-NN Accuracy: 0.3413\n"
     ]
    },
    {
     "name": "stderr",
     "output_type": "stream",
     "text": [
      "Epoch 84/100: 100%|████████████████████████████████████████████████████████████████████| 83/83 [00:02<00:00, 41.03it/s]\n"
     ]
    },
    {
     "name": "stdout",
     "output_type": "stream",
     "text": [
      "Epoch 84 Avg Loss: 1.9877\n",
      "Validation k-NN Accuracy: 0.3364\n"
     ]
    },
    {
     "name": "stderr",
     "output_type": "stream",
     "text": [
      "Epoch 85/100: 100%|████████████████████████████████████████████████████████████████████| 83/83 [00:02<00:00, 40.59it/s]\n"
     ]
    },
    {
     "name": "stdout",
     "output_type": "stream",
     "text": [
      "Epoch 85 Avg Loss: 1.9904\n",
      "Validation k-NN Accuracy: 0.3398\n"
     ]
    },
    {
     "name": "stderr",
     "output_type": "stream",
     "text": [
      "Epoch 86/100: 100%|████████████████████████████████████████████████████████████████████| 83/83 [00:02<00:00, 41.40it/s]\n"
     ]
    },
    {
     "name": "stdout",
     "output_type": "stream",
     "text": [
      "Epoch 86 Avg Loss: 1.9931\n",
      "Validation k-NN Accuracy: 0.3413\n"
     ]
    },
    {
     "name": "stderr",
     "output_type": "stream",
     "text": [
      "Epoch 87/100: 100%|████████████████████████████████████████████████████████████████████| 83/83 [00:02<00:00, 41.18it/s]\n"
     ]
    },
    {
     "name": "stdout",
     "output_type": "stream",
     "text": [
      "Epoch 87 Avg Loss: 1.9794\n",
      "Validation k-NN Accuracy: 0.3367\n"
     ]
    },
    {
     "name": "stderr",
     "output_type": "stream",
     "text": [
      "Epoch 88/100: 100%|████████████████████████████████████████████████████████████████████| 83/83 [00:02<00:00, 41.02it/s]\n"
     ]
    },
    {
     "name": "stdout",
     "output_type": "stream",
     "text": [
      "Epoch 88 Avg Loss: 1.9812\n",
      "Validation k-NN Accuracy: 0.3409\n"
     ]
    },
    {
     "name": "stderr",
     "output_type": "stream",
     "text": [
      "Epoch 89/100: 100%|████████████████████████████████████████████████████████████████████| 83/83 [00:02<00:00, 40.84it/s]\n"
     ]
    },
    {
     "name": "stdout",
     "output_type": "stream",
     "text": [
      "Epoch 89 Avg Loss: 1.9897\n",
      "Validation k-NN Accuracy: 0.3330\n"
     ]
    },
    {
     "name": "stderr",
     "output_type": "stream",
     "text": [
      "Epoch 90/100: 100%|████████████████████████████████████████████████████████████████████| 83/83 [00:02<00:00, 41.10it/s]\n"
     ]
    },
    {
     "name": "stdout",
     "output_type": "stream",
     "text": [
      "Epoch 90 Avg Loss: 1.9902\n",
      "Validation k-NN Accuracy: 0.3405\n"
     ]
    },
    {
     "name": "stderr",
     "output_type": "stream",
     "text": [
      "Epoch 91/100: 100%|████████████████████████████████████████████████████████████████████| 83/83 [00:02<00:00, 40.84it/s]\n"
     ]
    },
    {
     "name": "stdout",
     "output_type": "stream",
     "text": [
      "Epoch 91 Avg Loss: 1.9962\n",
      "Validation k-NN Accuracy: 0.3348\n"
     ]
    },
    {
     "name": "stderr",
     "output_type": "stream",
     "text": [
      "Epoch 92/100: 100%|████████████████████████████████████████████████████████████████████| 83/83 [00:02<00:00, 41.05it/s]\n"
     ]
    },
    {
     "name": "stdout",
     "output_type": "stream",
     "text": [
      "Epoch 92 Avg Loss: 1.9862\n",
      "Validation k-NN Accuracy: 0.3435\n"
     ]
    },
    {
     "name": "stderr",
     "output_type": "stream",
     "text": [
      "Epoch 93/100: 100%|████████████████████████████████████████████████████████████████████| 83/83 [00:02<00:00, 41.17it/s]\n"
     ]
    },
    {
     "name": "stdout",
     "output_type": "stream",
     "text": [
      "Epoch 93 Avg Loss: 1.9827\n",
      "Validation k-NN Accuracy: 0.3322\n"
     ]
    },
    {
     "name": "stderr",
     "output_type": "stream",
     "text": [
      "Epoch 94/100: 100%|████████████████████████████████████████████████████████████████████| 83/83 [00:02<00:00, 41.22it/s]\n"
     ]
    },
    {
     "name": "stdout",
     "output_type": "stream",
     "text": [
      "Epoch 94 Avg Loss: 1.9863\n",
      "Validation k-NN Accuracy: 0.3352\n"
     ]
    },
    {
     "name": "stderr",
     "output_type": "stream",
     "text": [
      "Epoch 95/100: 100%|████████████████████████████████████████████████████████████████████| 83/83 [00:02<00:00, 41.38it/s]\n"
     ]
    },
    {
     "name": "stdout",
     "output_type": "stream",
     "text": [
      "Epoch 95 Avg Loss: 1.9825\n",
      "Validation k-NN Accuracy: 0.3417\n"
     ]
    },
    {
     "name": "stderr",
     "output_type": "stream",
     "text": [
      "Epoch 96/100: 100%|████████████████████████████████████████████████████████████████████| 83/83 [00:02<00:00, 40.84it/s]\n"
     ]
    },
    {
     "name": "stdout",
     "output_type": "stream",
     "text": [
      "Epoch 96 Avg Loss: 1.9924\n",
      "Validation k-NN Accuracy: 0.3383\n"
     ]
    },
    {
     "name": "stderr",
     "output_type": "stream",
     "text": [
      "Epoch 97/100: 100%|████████████████████████████████████████████████████████████████████| 83/83 [00:02<00:00, 40.94it/s]\n"
     ]
    },
    {
     "name": "stdout",
     "output_type": "stream",
     "text": [
      "Epoch 97 Avg Loss: 1.9864\n",
      "Validation k-NN Accuracy: 0.3352\n"
     ]
    },
    {
     "name": "stderr",
     "output_type": "stream",
     "text": [
      "Epoch 98/100: 100%|████████████████████████████████████████████████████████████████████| 83/83 [00:02<00:00, 41.07it/s]\n"
     ]
    },
    {
     "name": "stdout",
     "output_type": "stream",
     "text": [
      "Epoch 98 Avg Loss: 1.9922\n",
      "Validation k-NN Accuracy: 0.3265\n"
     ]
    },
    {
     "name": "stderr",
     "output_type": "stream",
     "text": [
      "Epoch 99/100: 100%|████████████████████████████████████████████████████████████████████| 83/83 [00:02<00:00, 40.58it/s]\n"
     ]
    },
    {
     "name": "stdout",
     "output_type": "stream",
     "text": [
      "Epoch 99 Avg Loss: 1.9767\n",
      "Validation k-NN Accuracy: 0.3288\n"
     ]
    },
    {
     "name": "stderr",
     "output_type": "stream",
     "text": [
      "Epoch 100/100: 100%|███████████████████████████████████████████████████████████████████| 83/83 [00:02<00:00, 41.01it/s]\n"
     ]
    },
    {
     "name": "stdout",
     "output_type": "stream",
     "text": [
      "Epoch 100 Avg Loss: 1.9831\n",
      "Validation k-NN Accuracy: 0.3250\n"
     ]
    },
    {
     "data": {
      "image/png": "[encoded data removed]",
      "text/plain": [
       "<Figure size 800x500 with 1 Axes>"
      ]
     },
     "metadata": {},
     "output_type": "display_data"
    },
    {
     "name": "stdout",
     "output_type": "stream",
     "text": [
      "Best k by cross-validated F1 Macro: 19\n",
      "\n",
      "Hold-out F1 Macro (k=19): 0.2227\n",
      "\n",
      "Classification Report:\n",
      "              precision    recall  f1-score   support\n",
      "\n",
      "           3     0.5714    0.5405    0.5556        37\n",
      "         100     0.4625    0.5211    0.4901        71\n",
      "         300     0.1731    0.1800    0.1765        50\n",
      "         500     0.1200    0.0638    0.0833        47\n",
      "         700     0.1190    0.1163    0.1176        43\n",
      "         900     0.2105    0.2000    0.2051        40\n",
      "        1100     0.1154    0.0750    0.0909        40\n",
      "        1300     0.1972    0.2333    0.2137        60\n",
      "        1500     0.2000    0.3115    0.2436        61\n",
      "        1700     0.1379    0.1026    0.1176        39\n",
      "        1900     0.1667    0.1463    0.1558        41\n",
      "\n",
      "    accuracy                         0.2420       529\n",
      "   macro avg     0.2249    0.2264    0.2227       529\n",
      "weighted avg     0.2319    0.2420    0.2337       529\n",
      "\n",
      "\n",
      "Confusion Matrix:\n",
      "[[20 11  2  1  1  1  0  1  0  0  0]\n",
      " [11 37 12  3  2  1  0  1  1  1  2]\n",
      " [ 2 17  9  4  5  0  4  2  5  1  1]\n",
      " [ 2  7 11  3  2  3  1  7  7  2  2]\n",
      " [ 0  2 10  4  5  6  2  4  6  1  3]\n",
      " [ 0  2  4  1  3  8  3  7  7  3  2]\n",
      " [ 0  2  2  3  3  5  3  8 11  2  1]\n",
      " [ 0  0  1  1  8  7  6 14 12  6  5]\n",
      " [ 0  1  0  2  4  4  4 16 19  1 10]\n",
      " [ 0  1  1  2  4  2  2  4 15  4  4]\n",
      " [ 0  0  0  1  5  1  1  7 12  8  6]]\n",
      "True: 7, Predicted: 10\n",
      "True: 7, Predicted: 10\n",
      "True: 7, Predicted: 9\n",
      "True: 4, Predicted: 8\n",
      "True: 10, Predicted: 10\n",
      "True: 3, Predicted: 7\n",
      "True: 2, Predicted: 4\n",
      "True: 9, Predicted: 6\n",
      "True: 8, Predicted: 8\n",
      "True: 1, Predicted: 2\n",
      "Prediction: 8\n"
     ]
    }
   ],
   "source": [
    "def main(data_root, epochs=5, batch_size=32, lr=2e-4):\n",
    "    device = torch.device(\"cuda\" if torch.cuda.is_available() else \"cpu\")\n",
    "\n",
    "\n",
    "\n",
    "\n",
    "    \n",
    "    full_ds = AdmixtureDataset(data_root)\n",
    "    val_ratio = 0.2\n",
    "    val_size = int(len(full_ds) * val_ratio)\n",
    "    train_size = len(full_ds) - val_size\n",
    "    train_ds, val_ds = split_dataset(full_ds, val_ratio=val_ratio)\n",
    "\n",
    "    \n",
    "    print(train_size)\n",
    "    print(len(full_ds))\n",
    "\n",
    "    \n",
    "    \n",
    "    full_loader = DataLoader(full_ds, batch_size=batch_size, shuffle=True, num_workers=0, pin_memory=False)\n",
    "    train_loader = DataLoader(train_ds, batch_size=batch_size, shuffle=True, num_workers=0, pin_memory=False)\n",
    "    val_loader = DataLoader(val_ds, batch_size=batch_size, shuffle=False, num_workers=0, pin_memory=False)\n",
    "\n",
    "\n",
    "    \n",
    "    model = CNNEmbedding(embedding_dim=128).to(device)\n",
    "    opt = torch.optim.Adam(model.parameters(), lr=lr)\n",
    "\n",
    "    train_semi_hard(model, train_loader, opt, device, val_loader=val_loader, k=23, epochs=epochs, mode='semi_hard')\n",
    "\n",
    "    mode = \"semi_hard\"\n",
    "    y_true, y_pred, _, f1_list = evaluate_knn_with_elbow_cv(model, full_ds, val_loader, device)\n",
    "\n",
    "\n",
    "    for true, pred in zip(y_true[:10], y_pred[:10]):\n",
    "        print(f\"True: {true}, Predicted: {pred}\")\n",
    "\n",
    "\n",
    "    test_file_path = \"jupyterLabGeneratedData\\\\per_bin_denisovan.txt\"\n",
    "    test_embedding = predict_single_file(model, test_file_path, device)\n",
    "\n",
    "    val_embeddings = []\n",
    "    val_labels = []\n",
    "    model.eval()\n",
    "    with torch.no_grad():\n",
    "        for x_batch, y_batch in full_loader:\n",
    "            x_batch = x_batch.to(device)\n",
    "            embeds = model(x_batch)\n",
    "            val_embeddings.append(embeds.cpu())\n",
    "            val_labels.append(y_batch)\n",
    "\n",
    "    val_embeddings = torch.cat(val_embeddings).numpy()\n",
    "    val_labels = torch.cat(val_labels).numpy()\n",
    "\n",
    "    knn = KNeighborsClassifier(n_neighbors=23)\n",
    "    knn.fit(val_embeddings, val_labels)\n",
    "\n",
    "#FINAL PREDICTION\n",
    "    predicted_label = knn.predict(test_embedding.cpu().numpy())[0]\n",
    "    print(f\"Prediction: {predicted_label}\")\n",
    "\n",
    "if __name__ == \"__main__\":\n",
    "    main(data_root=\"jupyterLabGeneratedData\\\\fullData\", epochs=100, batch_size=128, lr=2e-5)"
   ]
  },
  {
   "cell_type": "code",
   "execution_count": null,
   "metadata": {},
   "outputs": [],
   "source": []
  }
 ],
 "metadata": {
  "colab": {
   "provenance": []
  },
  "kernelspec": {
   "display_name": "Python 3 (ipykernel)",
   "language": "python",
   "name": "python3"
  },
  "language_info": {
   "codemirror_mode": {
    "name": "ipython",
    "version": 3
   },
   "file_extension": ".py",
   "mimetype": "text/x-python",
   "name": "python",
   "nbconvert_exporter": "python",
   "pygments_lexer": "ipython3",
   "version": "3.12.7"
  }
 },
 "nbformat": 4,
 "nbformat_minor": 4
}
